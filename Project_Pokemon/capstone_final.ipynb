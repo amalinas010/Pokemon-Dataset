{
 "cells": [
  {
   "cell_type": "markdown",
   "metadata": {},
   "source": [
    "# Capstone Project (Supervised ML): Pokemon Dataset\n",
    "##### Team Member:\n",
    "Luqman | Nicole | Amalina"
   ]
  },
  {
   "cell_type": "markdown",
   "metadata": {},
   "source": [
    "### About this dataset\n",
    "#### Context\n",
    "This dataset contains information on all 802 Pokemon from all Seven Generations of Pokemon. The information contained in this dataset include Base Stats, Performance against Other Types, Height, Weight, Classification, Egg Steps, Experience Points, Abilities, etc. The information was scraped from http://serebii.net/\n",
    "\n",
    "#### Content\n",
    "- <b>name</b>: The English name of the Pokemon\n",
    "- <b>japanese_name</b>: The Original Japanese name of the Pokemon\n",
    "- <b>pokedex_number</b>: The entry number of the Pokemon in the National Pokedex\n",
    "- <b>percentage_male</b>: The percentage of the species that are male. Blank if the Pokemon is genderless.\n",
    "- <b>type1</b>: The Primary Type of the Pokemon\n",
    "- <b>type2</b>: The Secondary Type of the Pokemon\n",
    "- <b>classification</b>: The Classification of the Pokemon as described by the Sun and Moon Pokedex\n",
    "- <b>height_m</b>: Height of the Pokemon in metres\n",
    "- <b>weight_kg</b>: The Weight of the Pokemon in kilograms\n",
    "- <b>capture_rate</b>: Capture Rate of the Pokemon\n",
    "- <b>base_egg_steps</b>: The number of steps required to hatch an egg of the Pokemon\n",
    "- <b>abilities</b>: A stringified list of abilities that the Pokemon is capable of having\n",
    "- <b>experience_growth</b>: The Experience Growth of the Pokemon\n",
    "- <b>base_happiness</b>: Base Happiness of the Pokemon\n",
    "- <b>against_?</b>: Eighteen features that denote the amount of damage taken against an attack of a particular type\n",
    "- <b>hp</b>: The Base HP of the Pokemon\n",
    "- <b>attack</b>: The Base Attack of the Pokemon\n",
    "- <b>defense</b>: The Base Defense of the Pokemon\n",
    "- <b>sp_attack</b>: The Base Special Attack of the Pokemon\n",
    "- <b>sp_defense</b>: The Base Special Defense of the Pokemon\n",
    "- <b>speed</b>: The Base Speed of the Pokemon\n",
    "- <b>generation</b>: The numbered generation which the Pokemon was first introduced\n",
    "- <b>is_legendary</b>: Denotes if the Pokemon is legendary.\n",
    "\n",
    "#### Acknowledgements\n",
    "The data is available at https://www.kaggle.com/rounakbanik/pokemon\n",
    "\n",
    "#### Other resources:\n",
    "https://bulbapedia.bulbagarden.net/wiki/Main_Page"
   ]
  },
  {
   "cell_type": "markdown",
   "metadata": {},
   "source": [
    "### Our hypothesis/goals prior to EDA and ML:\n",
    "- Classify which pokemon is legendary\n",
    "- Rarest pokemon is legendary\n",
    "- Highest attack, defense, hp, etc. increases the chance of pokemon being a legendary\n",
    "- Older generation pokemons tend to be legendary\n",
    "- Pokemon with higher abilities tends to be legendary\n",
    "- Dual-type pokemon tends to be legendary compared to single-type"
   ]
  },
  {
   "cell_type": "code",
   "execution_count": 1,
   "metadata": {},
   "outputs": [],
   "source": [
    "import pandas as pd\n",
    "import numpy as np\n",
    "import matplotlib.pyplot as plt\n",
    "import seaborn as sns\n",
    "from imblearn.over_sampling import SMOTE\n",
    "sns.set(style=\"white\", font_scale=1.5)"
   ]
  },
  {
   "cell_type": "markdown",
   "metadata": {},
   "source": [
    "### Original Dataset"
   ]
  },
  {
   "cell_type": "code",
   "execution_count": 2,
   "metadata": {},
   "outputs": [
    {
     "data": {
      "text/html": [
       "<div>\n",
       "<style scoped>\n",
       "    .dataframe tbody tr th:only-of-type {\n",
       "        vertical-align: middle;\n",
       "    }\n",
       "\n",
       "    .dataframe tbody tr th {\n",
       "        vertical-align: top;\n",
       "    }\n",
       "\n",
       "    .dataframe thead th {\n",
       "        text-align: right;\n",
       "    }\n",
       "</style>\n",
       "<table border=\"1\" class=\"dataframe\">\n",
       "  <thead>\n",
       "    <tr style=\"text-align: right;\">\n",
       "      <th></th>\n",
       "      <th>abilities</th>\n",
       "      <th>against_bug</th>\n",
       "      <th>against_dark</th>\n",
       "      <th>against_dragon</th>\n",
       "      <th>against_electric</th>\n",
       "      <th>against_fairy</th>\n",
       "      <th>against_fight</th>\n",
       "      <th>against_fire</th>\n",
       "      <th>against_flying</th>\n",
       "      <th>against_ghost</th>\n",
       "      <th>...</th>\n",
       "      <th>percentage_male</th>\n",
       "      <th>pokedex_number</th>\n",
       "      <th>sp_attack</th>\n",
       "      <th>sp_defense</th>\n",
       "      <th>speed</th>\n",
       "      <th>type1</th>\n",
       "      <th>type2</th>\n",
       "      <th>weight_kg</th>\n",
       "      <th>generation</th>\n",
       "      <th>is_legendary</th>\n",
       "    </tr>\n",
       "  </thead>\n",
       "  <tbody>\n",
       "    <tr>\n",
       "      <th>0</th>\n",
       "      <td>['Overgrow', 'Chlorophyll']</td>\n",
       "      <td>1.0</td>\n",
       "      <td>1.0</td>\n",
       "      <td>1.0</td>\n",
       "      <td>0.5</td>\n",
       "      <td>0.5</td>\n",
       "      <td>0.5</td>\n",
       "      <td>2.0</td>\n",
       "      <td>2.0</td>\n",
       "      <td>1.0</td>\n",
       "      <td>...</td>\n",
       "      <td>88.1</td>\n",
       "      <td>1</td>\n",
       "      <td>65</td>\n",
       "      <td>65</td>\n",
       "      <td>45</td>\n",
       "      <td>grass</td>\n",
       "      <td>poison</td>\n",
       "      <td>6.9</td>\n",
       "      <td>1</td>\n",
       "      <td>0</td>\n",
       "    </tr>\n",
       "    <tr>\n",
       "      <th>1</th>\n",
       "      <td>['Overgrow', 'Chlorophyll']</td>\n",
       "      <td>1.0</td>\n",
       "      <td>1.0</td>\n",
       "      <td>1.0</td>\n",
       "      <td>0.5</td>\n",
       "      <td>0.5</td>\n",
       "      <td>0.5</td>\n",
       "      <td>2.0</td>\n",
       "      <td>2.0</td>\n",
       "      <td>1.0</td>\n",
       "      <td>...</td>\n",
       "      <td>88.1</td>\n",
       "      <td>2</td>\n",
       "      <td>80</td>\n",
       "      <td>80</td>\n",
       "      <td>60</td>\n",
       "      <td>grass</td>\n",
       "      <td>poison</td>\n",
       "      <td>13.0</td>\n",
       "      <td>1</td>\n",
       "      <td>0</td>\n",
       "    </tr>\n",
       "    <tr>\n",
       "      <th>2</th>\n",
       "      <td>['Overgrow', 'Chlorophyll']</td>\n",
       "      <td>1.0</td>\n",
       "      <td>1.0</td>\n",
       "      <td>1.0</td>\n",
       "      <td>0.5</td>\n",
       "      <td>0.5</td>\n",
       "      <td>0.5</td>\n",
       "      <td>2.0</td>\n",
       "      <td>2.0</td>\n",
       "      <td>1.0</td>\n",
       "      <td>...</td>\n",
       "      <td>88.1</td>\n",
       "      <td>3</td>\n",
       "      <td>122</td>\n",
       "      <td>120</td>\n",
       "      <td>80</td>\n",
       "      <td>grass</td>\n",
       "      <td>poison</td>\n",
       "      <td>100.0</td>\n",
       "      <td>1</td>\n",
       "      <td>0</td>\n",
       "    </tr>\n",
       "    <tr>\n",
       "      <th>3</th>\n",
       "      <td>['Blaze', 'Solar Power']</td>\n",
       "      <td>0.5</td>\n",
       "      <td>1.0</td>\n",
       "      <td>1.0</td>\n",
       "      <td>1.0</td>\n",
       "      <td>0.5</td>\n",
       "      <td>1.0</td>\n",
       "      <td>0.5</td>\n",
       "      <td>1.0</td>\n",
       "      <td>1.0</td>\n",
       "      <td>...</td>\n",
       "      <td>88.1</td>\n",
       "      <td>4</td>\n",
       "      <td>60</td>\n",
       "      <td>50</td>\n",
       "      <td>65</td>\n",
       "      <td>fire</td>\n",
       "      <td>NaN</td>\n",
       "      <td>8.5</td>\n",
       "      <td>1</td>\n",
       "      <td>0</td>\n",
       "    </tr>\n",
       "    <tr>\n",
       "      <th>4</th>\n",
       "      <td>['Blaze', 'Solar Power']</td>\n",
       "      <td>0.5</td>\n",
       "      <td>1.0</td>\n",
       "      <td>1.0</td>\n",
       "      <td>1.0</td>\n",
       "      <td>0.5</td>\n",
       "      <td>1.0</td>\n",
       "      <td>0.5</td>\n",
       "      <td>1.0</td>\n",
       "      <td>1.0</td>\n",
       "      <td>...</td>\n",
       "      <td>88.1</td>\n",
       "      <td>5</td>\n",
       "      <td>80</td>\n",
       "      <td>65</td>\n",
       "      <td>80</td>\n",
       "      <td>fire</td>\n",
       "      <td>NaN</td>\n",
       "      <td>19.0</td>\n",
       "      <td>1</td>\n",
       "      <td>0</td>\n",
       "    </tr>\n",
       "  </tbody>\n",
       "</table>\n",
       "<p>5 rows × 41 columns</p>\n",
       "</div>"
      ],
      "text/plain": [
       "                     abilities  against_bug  against_dark  against_dragon  \\\n",
       "0  ['Overgrow', 'Chlorophyll']          1.0           1.0             1.0   \n",
       "1  ['Overgrow', 'Chlorophyll']          1.0           1.0             1.0   \n",
       "2  ['Overgrow', 'Chlorophyll']          1.0           1.0             1.0   \n",
       "3     ['Blaze', 'Solar Power']          0.5           1.0             1.0   \n",
       "4     ['Blaze', 'Solar Power']          0.5           1.0             1.0   \n",
       "\n",
       "   against_electric  against_fairy  against_fight  against_fire  \\\n",
       "0               0.5            0.5            0.5           2.0   \n",
       "1               0.5            0.5            0.5           2.0   \n",
       "2               0.5            0.5            0.5           2.0   \n",
       "3               1.0            0.5            1.0           0.5   \n",
       "4               1.0            0.5            1.0           0.5   \n",
       "\n",
       "   against_flying  against_ghost      ...       percentage_male  \\\n",
       "0             2.0            1.0      ...                  88.1   \n",
       "1             2.0            1.0      ...                  88.1   \n",
       "2             2.0            1.0      ...                  88.1   \n",
       "3             1.0            1.0      ...                  88.1   \n",
       "4             1.0            1.0      ...                  88.1   \n",
       "\n",
       "   pokedex_number  sp_attack  sp_defense  speed  type1   type2  weight_kg  \\\n",
       "0               1         65          65     45  grass  poison        6.9   \n",
       "1               2         80          80     60  grass  poison       13.0   \n",
       "2               3        122         120     80  grass  poison      100.0   \n",
       "3               4         60          50     65   fire     NaN        8.5   \n",
       "4               5         80          65     80   fire     NaN       19.0   \n",
       "\n",
       "   generation  is_legendary  \n",
       "0           1             0  \n",
       "1           1             0  \n",
       "2           1             0  \n",
       "3           1             0  \n",
       "4           1             0  \n",
       "\n",
       "[5 rows x 41 columns]"
      ]
     },
     "execution_count": 2,
     "metadata": {},
     "output_type": "execute_result"
    }
   ],
   "source": [
    "#load data\n",
    "df = pd.read_csv('Data/pokemon.csv')\n",
    "df.head()"
   ]
  },
  {
   "cell_type": "code",
   "execution_count": 3,
   "metadata": {},
   "outputs": [
    {
     "name": "stdout",
     "output_type": "stream",
     "text": [
      "<class 'pandas.core.frame.DataFrame'>\n",
      "RangeIndex: 801 entries, 0 to 800\n",
      "Data columns (total 41 columns):\n",
      "abilities            801 non-null object\n",
      "against_bug          801 non-null float64\n",
      "against_dark         801 non-null float64\n",
      "against_dragon       801 non-null float64\n",
      "against_electric     801 non-null float64\n",
      "against_fairy        801 non-null float64\n",
      "against_fight        801 non-null float64\n",
      "against_fire         801 non-null float64\n",
      "against_flying       801 non-null float64\n",
      "against_ghost        801 non-null float64\n",
      "against_grass        801 non-null float64\n",
      "against_ground       801 non-null float64\n",
      "against_ice          801 non-null float64\n",
      "against_normal       801 non-null float64\n",
      "against_poison       801 non-null float64\n",
      "against_psychic      801 non-null float64\n",
      "against_rock         801 non-null float64\n",
      "against_steel        801 non-null float64\n",
      "against_water        801 non-null float64\n",
      "attack               801 non-null int64\n",
      "base_egg_steps       801 non-null int64\n",
      "base_happiness       801 non-null int64\n",
      "base_total           801 non-null int64\n",
      "capture_rate         801 non-null object\n",
      "classfication        801 non-null object\n",
      "defense              801 non-null int64\n",
      "experience_growth    801 non-null int64\n",
      "height_m             781 non-null float64\n",
      "hp                   801 non-null int64\n",
      "japanese_name        801 non-null object\n",
      "name                 801 non-null object\n",
      "percentage_male      703 non-null float64\n",
      "pokedex_number       801 non-null int64\n",
      "sp_attack            801 non-null int64\n",
      "sp_defense           801 non-null int64\n",
      "speed                801 non-null int64\n",
      "type1                801 non-null object\n",
      "type2                417 non-null object\n",
      "weight_kg            781 non-null float64\n",
      "generation           801 non-null int64\n",
      "is_legendary         801 non-null int64\n",
      "dtypes: float64(21), int64(13), object(7)\n",
      "memory usage: 256.6+ KB\n"
     ]
    }
   ],
   "source": [
    "df.info()"
   ]
  },
  {
   "cell_type": "markdown",
   "metadata": {},
   "source": [
    "#### This is an inbalanced data set. Therefore, we decided to use oversampling method"
   ]
  },
  {
   "cell_type": "code",
   "execution_count": 4,
   "metadata": {},
   "outputs": [
    {
     "data": {
      "text/plain": [
       "0    731\n",
       "1     70\n",
       "Name: is_legendary, dtype: int64"
      ]
     },
     "execution_count": 4,
     "metadata": {},
     "output_type": "execute_result"
    }
   ],
   "source": [
    "df['is_legendary'].value_counts()"
   ]
  },
  {
   "cell_type": "code",
   "execution_count": 5,
   "metadata": {},
   "outputs": [
    {
     "data": {
      "text/plain": [
       "(801, 38)"
      ]
     },
     "execution_count": 5,
     "metadata": {},
     "output_type": "execute_result"
    }
   ],
   "source": [
    "#Drop unrelated columns\n",
    "pokemon_df = df.drop(df.loc[:,['pokedex_number','japanese_name', 'name']], \n",
    "                    axis = 1)\n",
    "pokemon_df.shape"
   ]
  },
  {
   "cell_type": "code",
   "execution_count": 6,
   "metadata": {},
   "outputs": [
    {
     "data": {
      "text/html": [
       "<div>\n",
       "<style scoped>\n",
       "    .dataframe tbody tr th:only-of-type {\n",
       "        vertical-align: middle;\n",
       "    }\n",
       "\n",
       "    .dataframe tbody tr th {\n",
       "        vertical-align: top;\n",
       "    }\n",
       "\n",
       "    .dataframe thead th {\n",
       "        text-align: right;\n",
       "    }\n",
       "</style>\n",
       "<table border=\"1\" class=\"dataframe\">\n",
       "  <thead>\n",
       "    <tr style=\"text-align: right;\">\n",
       "      <th></th>\n",
       "      <th>No. of missing values</th>\n",
       "    </tr>\n",
       "  </thead>\n",
       "  <tbody>\n",
       "    <tr>\n",
       "      <th>height_m</th>\n",
       "      <td>20</td>\n",
       "    </tr>\n",
       "    <tr>\n",
       "      <th>percentage_male</th>\n",
       "      <td>98</td>\n",
       "    </tr>\n",
       "    <tr>\n",
       "      <th>type2</th>\n",
       "      <td>384</td>\n",
       "    </tr>\n",
       "    <tr>\n",
       "      <th>weight_kg</th>\n",
       "      <td>20</td>\n",
       "    </tr>\n",
       "  </tbody>\n",
       "</table>\n",
       "</div>"
      ],
      "text/plain": [
       "                 No. of missing values\n",
       "height_m                            20\n",
       "percentage_male                     98\n",
       "type2                              384\n",
       "weight_kg                           20"
      ]
     },
     "execution_count": 6,
     "metadata": {},
     "output_type": "execute_result"
    }
   ],
   "source": [
    "#Check for missing values for each columns\n",
    "\n",
    "null_obj = pd.DataFrame(pokemon_df.isnull().sum(), columns = ['No. of missing values'] )\n",
    "null_obj[null_obj['No. of missing values'] > 0]"
   ]
  },
  {
   "cell_type": "markdown",
   "metadata": {},
   "source": [
    "### EDA (Part I): Handling Missing Values"
   ]
  },
  {
   "cell_type": "markdown",
   "metadata": {},
   "source": [
    "- Drop column <b>'percentage_male'</b> because it only tells the percentage of males in that particular pokemon population. It has nothing to do with predicting whether the particular pokemon species is legendary or not"
   ]
  },
  {
   "cell_type": "code",
   "execution_count": 7,
   "metadata": {},
   "outputs": [
    {
     "data": {
      "text/plain": [
       "(801, 37)"
      ]
     },
     "execution_count": 7,
     "metadata": {},
     "output_type": "execute_result"
    }
   ],
   "source": [
    "pokemon_df = pokemon_df.drop(pokemon_df.loc[:,['percentage_male']], \n",
    "                    axis = 1)\n",
    "pokemon_df.shape"
   ]
  },
  {
   "cell_type": "code",
   "execution_count": 8,
   "metadata": {},
   "outputs": [
    {
     "data": {
      "text/html": [
       "<div>\n",
       "<style scoped>\n",
       "    .dataframe tbody tr th:only-of-type {\n",
       "        vertical-align: middle;\n",
       "    }\n",
       "\n",
       "    .dataframe tbody tr th {\n",
       "        vertical-align: top;\n",
       "    }\n",
       "\n",
       "    .dataframe thead th {\n",
       "        text-align: right;\n",
       "    }\n",
       "</style>\n",
       "<table border=\"1\" class=\"dataframe\">\n",
       "  <thead>\n",
       "    <tr style=\"text-align: right;\">\n",
       "      <th></th>\n",
       "      <th>No. of missing values</th>\n",
       "    </tr>\n",
       "  </thead>\n",
       "  <tbody>\n",
       "    <tr>\n",
       "      <th>height_m</th>\n",
       "      <td>20</td>\n",
       "    </tr>\n",
       "    <tr>\n",
       "      <th>type2</th>\n",
       "      <td>384</td>\n",
       "    </tr>\n",
       "    <tr>\n",
       "      <th>weight_kg</th>\n",
       "      <td>20</td>\n",
       "    </tr>\n",
       "  </tbody>\n",
       "</table>\n",
       "</div>"
      ],
      "text/plain": [
       "           No. of missing values\n",
       "height_m                      20\n",
       "type2                        384\n",
       "weight_kg                     20"
      ]
     },
     "execution_count": 8,
     "metadata": {},
     "output_type": "execute_result"
    }
   ],
   "source": [
    "#Delete later\n",
    "null_obj = pd.DataFrame(pokemon_df.isnull().sum(), columns = ['No. of missing values'] )\n",
    "null_obj[null_obj['No. of missing values'] > 0]"
   ]
  },
  {
   "cell_type": "markdown",
   "metadata": {},
   "source": [
    "- Column <b>'height_m'</b> and <b>'weight_kg'</b> have same amount of missing values. Check both columns with NAN values."
   ]
  },
  {
   "cell_type": "code",
   "execution_count": 9,
   "metadata": {},
   "outputs": [
    {
     "data": {
      "text/plain": [
       "array([ True,  True,  True,  True,  True,  True,  True,  True,  True,\n",
       "        True,  True,  True,  True,  True,  True,  True,  True,  True,\n",
       "        True,  True])"
      ]
     },
     "execution_count": 9,
     "metadata": {},
     "output_type": "execute_result"
    }
   ],
   "source": [
    "index1 = pokemon_df.loc[pokemon_df['height_m'].isnull()].index\n",
    "index2 = pokemon_df.loc[pokemon_df['weight_kg'].isnull()].index\n",
    "index1 == index2"
   ]
  },
  {
   "cell_type": "markdown",
   "metadata": {},
   "source": [
    "- Since both columns have the same rows that contain missing values, and since bulbapedia has further information of the weight and height of the missing values, replace the missing values \n",
    "    - The information from Bulbapedia are filled in (refer list_weight and list_height)"
   ]
  },
  {
   "cell_type": "code",
   "execution_count": 10,
   "metadata": {},
   "outputs": [
    {
     "data": {
      "text/html": [
       "<div>\n",
       "<style scoped>\n",
       "    .dataframe tbody tr th:only-of-type {\n",
       "        vertical-align: middle;\n",
       "    }\n",
       "\n",
       "    .dataframe tbody tr th {\n",
       "        vertical-align: top;\n",
       "    }\n",
       "\n",
       "    .dataframe thead th {\n",
       "        text-align: right;\n",
       "    }\n",
       "</style>\n",
       "<table border=\"1\" class=\"dataframe\">\n",
       "  <thead>\n",
       "    <tr style=\"text-align: right;\">\n",
       "      <th></th>\n",
       "      <th>name</th>\n",
       "      <th>weight_kg</th>\n",
       "      <th>height_m</th>\n",
       "      <th>is_legendary</th>\n",
       "    </tr>\n",
       "  </thead>\n",
       "  <tbody>\n",
       "    <tr>\n",
       "      <th>18</th>\n",
       "      <td>Rattata</td>\n",
       "      <td>NaN</td>\n",
       "      <td>NaN</td>\n",
       "      <td>0</td>\n",
       "    </tr>\n",
       "    <tr>\n",
       "      <th>19</th>\n",
       "      <td>Raticate</td>\n",
       "      <td>NaN</td>\n",
       "      <td>NaN</td>\n",
       "      <td>0</td>\n",
       "    </tr>\n",
       "    <tr>\n",
       "      <th>25</th>\n",
       "      <td>Raichu</td>\n",
       "      <td>NaN</td>\n",
       "      <td>NaN</td>\n",
       "      <td>0</td>\n",
       "    </tr>\n",
       "    <tr>\n",
       "      <th>26</th>\n",
       "      <td>Sandshrew</td>\n",
       "      <td>NaN</td>\n",
       "      <td>NaN</td>\n",
       "      <td>0</td>\n",
       "    </tr>\n",
       "    <tr>\n",
       "      <th>27</th>\n",
       "      <td>Sandslash</td>\n",
       "      <td>NaN</td>\n",
       "      <td>NaN</td>\n",
       "      <td>0</td>\n",
       "    </tr>\n",
       "  </tbody>\n",
       "</table>\n",
       "</div>"
      ],
      "text/plain": [
       "         name  weight_kg  height_m  is_legendary\n",
       "18    Rattata        NaN       NaN             0\n",
       "19   Raticate        NaN       NaN             0\n",
       "25     Raichu        NaN       NaN             0\n",
       "26  Sandshrew        NaN       NaN             0\n",
       "27  Sandslash        NaN       NaN             0"
      ]
     },
     "execution_count": 10,
     "metadata": {},
     "output_type": "execute_result"
    }
   ],
   "source": [
    "missing_df = df.loc[index1,['name','weight_kg','height_m','is_legendary']]\n",
    "list_weight = [3.5,18.5,30,12, 29.5, 9.9, 19.9, 0.8, 33.3, 4.2, 32, 20, 105, 300, 30, 30, 120, 45, 9, 25]\n",
    "list_height = [0.3,0.7,0.8,0.6,1.0,0.6, 1.1, 0.2, 0.7, 0.4, 1.0, 0.4, 1, 1.4, 0.9, 1.2, 2, 1, 0.5, 0.8]\n",
    "missing_df.head()"
   ]
  },
  {
   "cell_type": "code",
   "execution_count": 11,
   "metadata": {},
   "outputs": [],
   "source": [
    "pokemon_df.loc[index1, 'weight_kg'] = list_weight\n",
    "pokemon_df.loc[index1, 'height_m'] = list_height"
   ]
  },
  {
   "cell_type": "code",
   "execution_count": 12,
   "metadata": {},
   "outputs": [
    {
     "data": {
      "text/html": [
       "<div>\n",
       "<style scoped>\n",
       "    .dataframe tbody tr th:only-of-type {\n",
       "        vertical-align: middle;\n",
       "    }\n",
       "\n",
       "    .dataframe tbody tr th {\n",
       "        vertical-align: top;\n",
       "    }\n",
       "\n",
       "    .dataframe thead th {\n",
       "        text-align: right;\n",
       "    }\n",
       "</style>\n",
       "<table border=\"1\" class=\"dataframe\">\n",
       "  <thead>\n",
       "    <tr style=\"text-align: right;\">\n",
       "      <th></th>\n",
       "      <th>Null</th>\n",
       "    </tr>\n",
       "  </thead>\n",
       "  <tbody>\n",
       "    <tr>\n",
       "      <th>type2</th>\n",
       "      <td>384</td>\n",
       "    </tr>\n",
       "  </tbody>\n",
       "</table>\n",
       "</div>"
      ],
      "text/plain": [
       "       Null\n",
       "type2   384"
      ]
     },
     "execution_count": 12,
     "metadata": {},
     "output_type": "execute_result"
    }
   ],
   "source": [
    "#Delete later\n",
    "null_obj = pd.DataFrame(pokemon_df.isnull().sum(), columns = ['Null'] )\n",
    "null_obj[null_obj['Null'] > 0]"
   ]
  },
  {
   "cell_type": "code",
   "execution_count": 13,
   "metadata": {},
   "outputs": [
    {
     "data": {
      "text/plain": [
       "(801, 37)"
      ]
     },
     "execution_count": 13,
     "metadata": {},
     "output_type": "execute_result"
    }
   ],
   "source": [
    "#Delete later\n",
    "pokemon_df.shape"
   ]
  },
  {
   "cell_type": "markdown",
   "metadata": {},
   "source": [
    "- Not all pokemons are dual-type, there are also single-type pokemons\n",
    "- Thus, it is important to replace the missing values\n",
    "- Replace the missing values in type2 with string <b>'NA'</b> (not applicable)"
   ]
  },
  {
   "cell_type": "code",
   "execution_count": 14,
   "metadata": {},
   "outputs": [],
   "source": [
    "pokemon_df.fillna('NA', inplace=True)"
   ]
  },
  {
   "cell_type": "markdown",
   "metadata": {},
   "source": [
    "Check if there is any more missing values:"
   ]
  },
  {
   "cell_type": "code",
   "execution_count": 15,
   "metadata": {},
   "outputs": [
    {
     "data": {
      "text/html": [
       "<div>\n",
       "<style scoped>\n",
       "    .dataframe tbody tr th:only-of-type {\n",
       "        vertical-align: middle;\n",
       "    }\n",
       "\n",
       "    .dataframe tbody tr th {\n",
       "        vertical-align: top;\n",
       "    }\n",
       "\n",
       "    .dataframe thead th {\n",
       "        text-align: right;\n",
       "    }\n",
       "</style>\n",
       "<table border=\"1\" class=\"dataframe\">\n",
       "  <thead>\n",
       "    <tr style=\"text-align: right;\">\n",
       "      <th></th>\n",
       "      <th>Null</th>\n",
       "    </tr>\n",
       "  </thead>\n",
       "  <tbody>\n",
       "  </tbody>\n",
       "</table>\n",
       "</div>"
      ],
      "text/plain": [
       "Empty DataFrame\n",
       "Columns: [Null]\n",
       "Index: []"
      ]
     },
     "execution_count": 15,
     "metadata": {},
     "output_type": "execute_result"
    }
   ],
   "source": [
    "null_obj = pd.DataFrame(pokemon_df.isnull().sum(), columns = ['Null'] )\n",
    "null_obj[null_obj['Null'] > 0]"
   ]
  },
  {
   "cell_type": "markdown",
   "metadata": {},
   "source": [
    "### EDA (Part II): Exploring Categorical/Numerical Variables"
   ]
  },
  {
   "cell_type": "code",
   "execution_count": 16,
   "metadata": {},
   "outputs": [
    {
     "name": "stdout",
     "output_type": "stream",
     "text": [
      "categorical_columns: ['abilities', 'capture_rate', 'classfication', 'type1', 'type2']\n",
      "\n",
      "numerical_columns: ['against_bug', 'against_dark', 'against_dragon', 'against_electric', 'against_fairy', 'against_fight', 'against_fire', 'against_flying', 'against_ghost', 'against_grass', 'against_ground', 'against_ice', 'against_normal', 'against_poison', 'against_psychic', 'against_rock', 'against_steel', 'against_water', 'attack', 'base_egg_steps', 'base_happiness', 'base_total', 'defense', 'experience_growth', 'height_m', 'hp', 'sp_attack', 'sp_defense', 'speed', 'weight_kg', 'generation', 'is_legendary']\n"
     ]
    }
   ],
   "source": [
    "categorical_columns = [c for c in pokemon_df.columns \n",
    "                       if pokemon_df[c].dtype.name == 'object']\n",
    "numerical_columns = [c for c in pokemon_df.columns \n",
    "                     if pokemon_df[c].dtype.name != 'object']\n",
    "\n",
    "print('categorical_columns:', categorical_columns)\n",
    "print()\n",
    "print('numerical_columns:', numerical_columns)"
   ]
  },
  {
   "cell_type": "markdown",
   "metadata": {},
   "source": [
    "- Convert column <b>'capture_rate'</b> to integer"
   ]
  },
  {
   "cell_type": "code",
   "execution_count": 17,
   "metadata": {},
   "outputs": [],
   "source": [
    "#pokemon_df['capture_rate'].astype('int')"
   ]
  },
  {
   "cell_type": "markdown",
   "metadata": {},
   "source": [
    "- ValueError: invalid literal for int() with base 10: '30 (Meteorite)255 (Core)'\n",
    "- Get information from Bulbapedia\n",
    "- Replace with the cell: '30 (Meteorite)255 (Core)' with '255'"
   ]
  },
  {
   "cell_type": "code",
   "execution_count": 18,
   "metadata": {},
   "outputs": [
    {
     "data": {
      "text/plain": [
       "Int64Index([773], dtype='int64')"
      ]
     },
     "execution_count": 18,
     "metadata": {},
     "output_type": "execute_result"
    }
   ],
   "source": [
    "pokemon_df[pokemon_df['capture_rate'] == '30 (Meteorite)255 (Core)'].index"
   ]
  },
  {
   "cell_type": "code",
   "execution_count": 19,
   "metadata": {},
   "outputs": [],
   "source": [
    "pokemon_df.loc[773,'capture_rate'] = '255'"
   ]
  },
  {
   "cell_type": "code",
   "execution_count": 20,
   "metadata": {},
   "outputs": [],
   "source": [
    "pokemon_df['capture_rate'] = pokemon_df['capture_rate'].astype('int')"
   ]
  },
  {
   "cell_type": "code",
   "execution_count": 21,
   "metadata": {},
   "outputs": [
    {
     "name": "stdout",
     "output_type": "stream",
     "text": [
      "categorical_columns: ['abilities', 'classfication', 'type1', 'type2']\n",
      "\n",
      "numerical_columns: ['against_bug', 'against_dark', 'against_dragon', 'against_electric', 'against_fairy', 'against_fight', 'against_fire', 'against_flying', 'against_ghost', 'against_grass', 'against_ground', 'against_ice', 'against_normal', 'against_poison', 'against_psychic', 'against_rock', 'against_steel', 'against_water', 'attack', 'base_egg_steps', 'base_happiness', 'base_total', 'capture_rate', 'defense', 'experience_growth', 'height_m', 'hp', 'sp_attack', 'sp_defense', 'speed', 'weight_kg', 'generation', 'is_legendary']\n"
     ]
    }
   ],
   "source": [
    "#delete later\n",
    "categorical_columns = [c for c in pokemon_df.columns \n",
    "                       if pokemon_df[c].dtype.name == 'object']\n",
    "numerical_columns = [c for c in pokemon_df.columns \n",
    "                     if pokemon_df[c].dtype.name != 'object']\n",
    "\n",
    "print('categorical_columns:', categorical_columns)\n",
    "print()\n",
    "print('numerical_columns:', numerical_columns)"
   ]
  },
  {
   "cell_type": "markdown",
   "metadata": {},
   "source": [
    "- Convert column <b>'abilities'</b> to <b>'total_abilities'</b>"
   ]
  },
  {
   "cell_type": "code",
   "execution_count": 22,
   "metadata": {},
   "outputs": [
    {
     "data": {
      "text/plain": [
       "801"
      ]
     },
     "execution_count": 22,
     "metadata": {},
     "output_type": "execute_result"
    }
   ],
   "source": [
    "#Strip the string to convert to list type\n",
    "list_abilities = []\n",
    "for i in range(len(df)):\n",
    "    list_abilities.append(df['abilities'][i].strip('[]').replace(\"'\", \"\").split(\", \"))\n",
    "#Convert the abilities to the no. of abilities\n",
    "total_abilities = []\n",
    "for i in range(len(list_abilities)):\n",
    "    total_abilities.append(len(list_abilities[i]))\n",
    "len(total_abilities)"
   ]
  },
  {
   "cell_type": "code",
   "execution_count": 23,
   "metadata": {},
   "outputs": [
    {
     "data": {
      "text/plain": [
       "227"
      ]
     },
     "execution_count": 23,
     "metadata": {},
     "output_type": "execute_result"
    }
   ],
   "source": [
    "#Check the no. of unique abilities, it is categorical, but should we is it important?\n",
    "unique_abilities = set(x for l in list_abilities for x in l)\n",
    "len(unique_abilities)"
   ]
  },
  {
   "cell_type": "markdown",
   "metadata": {},
   "source": [
    "- Since there is 227 unique abilities, choose  column 'total abilities' over 'unique abilities'"
   ]
  },
  {
   "cell_type": "code",
   "execution_count": 24,
   "metadata": {},
   "outputs": [],
   "source": [
    "#Make a new column 'total_abilities'\n",
    "pokemon_df['total_abilities'] = total_abilities"
   ]
  },
  {
   "cell_type": "code",
   "execution_count": 25,
   "metadata": {},
   "outputs": [],
   "source": [
    "pokemon_df = pokemon_df.drop(pokemon_df.loc[:,['abilities']], \n",
    "                    axis = 1)"
   ]
  },
  {
   "cell_type": "code",
   "execution_count": 26,
   "metadata": {},
   "outputs": [
    {
     "data": {
      "text/html": [
       "<div>\n",
       "<style scoped>\n",
       "    .dataframe tbody tr th:only-of-type {\n",
       "        vertical-align: middle;\n",
       "    }\n",
       "\n",
       "    .dataframe tbody tr th {\n",
       "        vertical-align: top;\n",
       "    }\n",
       "\n",
       "    .dataframe thead th {\n",
       "        text-align: right;\n",
       "    }\n",
       "</style>\n",
       "<table border=\"1\" class=\"dataframe\">\n",
       "  <thead>\n",
       "    <tr style=\"text-align: right;\">\n",
       "      <th></th>\n",
       "      <th>against_bug</th>\n",
       "      <th>against_dark</th>\n",
       "      <th>against_dragon</th>\n",
       "      <th>against_electric</th>\n",
       "      <th>against_fairy</th>\n",
       "      <th>against_fight</th>\n",
       "      <th>against_fire</th>\n",
       "      <th>against_flying</th>\n",
       "      <th>against_ghost</th>\n",
       "      <th>against_grass</th>\n",
       "      <th>...</th>\n",
       "      <th>hp</th>\n",
       "      <th>sp_attack</th>\n",
       "      <th>sp_defense</th>\n",
       "      <th>speed</th>\n",
       "      <th>type1</th>\n",
       "      <th>type2</th>\n",
       "      <th>weight_kg</th>\n",
       "      <th>generation</th>\n",
       "      <th>is_legendary</th>\n",
       "      <th>total_abilities</th>\n",
       "    </tr>\n",
       "  </thead>\n",
       "  <tbody>\n",
       "    <tr>\n",
       "      <th>0</th>\n",
       "      <td>1.0</td>\n",
       "      <td>1.0</td>\n",
       "      <td>1.0</td>\n",
       "      <td>0.5</td>\n",
       "      <td>0.5</td>\n",
       "      <td>0.5</td>\n",
       "      <td>2.0</td>\n",
       "      <td>2.0</td>\n",
       "      <td>1.0</td>\n",
       "      <td>0.25</td>\n",
       "      <td>...</td>\n",
       "      <td>45</td>\n",
       "      <td>65</td>\n",
       "      <td>65</td>\n",
       "      <td>45</td>\n",
       "      <td>grass</td>\n",
       "      <td>poison</td>\n",
       "      <td>6.9</td>\n",
       "      <td>1</td>\n",
       "      <td>0</td>\n",
       "      <td>2</td>\n",
       "    </tr>\n",
       "    <tr>\n",
       "      <th>1</th>\n",
       "      <td>1.0</td>\n",
       "      <td>1.0</td>\n",
       "      <td>1.0</td>\n",
       "      <td>0.5</td>\n",
       "      <td>0.5</td>\n",
       "      <td>0.5</td>\n",
       "      <td>2.0</td>\n",
       "      <td>2.0</td>\n",
       "      <td>1.0</td>\n",
       "      <td>0.25</td>\n",
       "      <td>...</td>\n",
       "      <td>60</td>\n",
       "      <td>80</td>\n",
       "      <td>80</td>\n",
       "      <td>60</td>\n",
       "      <td>grass</td>\n",
       "      <td>poison</td>\n",
       "      <td>13.0</td>\n",
       "      <td>1</td>\n",
       "      <td>0</td>\n",
       "      <td>2</td>\n",
       "    </tr>\n",
       "    <tr>\n",
       "      <th>2</th>\n",
       "      <td>1.0</td>\n",
       "      <td>1.0</td>\n",
       "      <td>1.0</td>\n",
       "      <td>0.5</td>\n",
       "      <td>0.5</td>\n",
       "      <td>0.5</td>\n",
       "      <td>2.0</td>\n",
       "      <td>2.0</td>\n",
       "      <td>1.0</td>\n",
       "      <td>0.25</td>\n",
       "      <td>...</td>\n",
       "      <td>80</td>\n",
       "      <td>122</td>\n",
       "      <td>120</td>\n",
       "      <td>80</td>\n",
       "      <td>grass</td>\n",
       "      <td>poison</td>\n",
       "      <td>100.0</td>\n",
       "      <td>1</td>\n",
       "      <td>0</td>\n",
       "      <td>2</td>\n",
       "    </tr>\n",
       "    <tr>\n",
       "      <th>3</th>\n",
       "      <td>0.5</td>\n",
       "      <td>1.0</td>\n",
       "      <td>1.0</td>\n",
       "      <td>1.0</td>\n",
       "      <td>0.5</td>\n",
       "      <td>1.0</td>\n",
       "      <td>0.5</td>\n",
       "      <td>1.0</td>\n",
       "      <td>1.0</td>\n",
       "      <td>0.50</td>\n",
       "      <td>...</td>\n",
       "      <td>39</td>\n",
       "      <td>60</td>\n",
       "      <td>50</td>\n",
       "      <td>65</td>\n",
       "      <td>fire</td>\n",
       "      <td>NA</td>\n",
       "      <td>8.5</td>\n",
       "      <td>1</td>\n",
       "      <td>0</td>\n",
       "      <td>2</td>\n",
       "    </tr>\n",
       "    <tr>\n",
       "      <th>4</th>\n",
       "      <td>0.5</td>\n",
       "      <td>1.0</td>\n",
       "      <td>1.0</td>\n",
       "      <td>1.0</td>\n",
       "      <td>0.5</td>\n",
       "      <td>1.0</td>\n",
       "      <td>0.5</td>\n",
       "      <td>1.0</td>\n",
       "      <td>1.0</td>\n",
       "      <td>0.50</td>\n",
       "      <td>...</td>\n",
       "      <td>58</td>\n",
       "      <td>80</td>\n",
       "      <td>65</td>\n",
       "      <td>80</td>\n",
       "      <td>fire</td>\n",
       "      <td>NA</td>\n",
       "      <td>19.0</td>\n",
       "      <td>1</td>\n",
       "      <td>0</td>\n",
       "      <td>2</td>\n",
       "    </tr>\n",
       "  </tbody>\n",
       "</table>\n",
       "<p>5 rows × 37 columns</p>\n",
       "</div>"
      ],
      "text/plain": [
       "   against_bug  against_dark  against_dragon  against_electric  against_fairy  \\\n",
       "0          1.0           1.0             1.0               0.5            0.5   \n",
       "1          1.0           1.0             1.0               0.5            0.5   \n",
       "2          1.0           1.0             1.0               0.5            0.5   \n",
       "3          0.5           1.0             1.0               1.0            0.5   \n",
       "4          0.5           1.0             1.0               1.0            0.5   \n",
       "\n",
       "   against_fight  against_fire  against_flying  against_ghost  against_grass  \\\n",
       "0            0.5           2.0             2.0            1.0           0.25   \n",
       "1            0.5           2.0             2.0            1.0           0.25   \n",
       "2            0.5           2.0             2.0            1.0           0.25   \n",
       "3            1.0           0.5             1.0            1.0           0.50   \n",
       "4            1.0           0.5             1.0            1.0           0.50   \n",
       "\n",
       "        ...         hp  sp_attack  sp_defense  speed  type1   type2  \\\n",
       "0       ...         45         65          65     45  grass  poison   \n",
       "1       ...         60         80          80     60  grass  poison   \n",
       "2       ...         80        122         120     80  grass  poison   \n",
       "3       ...         39         60          50     65   fire      NA   \n",
       "4       ...         58         80          65     80   fire      NA   \n",
       "\n",
       "   weight_kg  generation  is_legendary  total_abilities  \n",
       "0        6.9           1             0                2  \n",
       "1       13.0           1             0                2  \n",
       "2      100.0           1             0                2  \n",
       "3        8.5           1             0                2  \n",
       "4       19.0           1             0                2  \n",
       "\n",
       "[5 rows x 37 columns]"
      ]
     },
     "execution_count": 26,
     "metadata": {},
     "output_type": "execute_result"
    }
   ],
   "source": [
    "pokemon_df.head(5)"
   ]
  },
  {
   "cell_type": "code",
   "execution_count": 27,
   "metadata": {},
   "outputs": [
    {
     "name": "stdout",
     "output_type": "stream",
     "text": [
      "categorical_columns: ['classfication', 'type1', 'type2']\n",
      "\n",
      "numerical_columns: ['against_bug', 'against_dark', 'against_dragon', 'against_electric', 'against_fairy', 'against_fight', 'against_fire', 'against_flying', 'against_ghost', 'against_grass', 'against_ground', 'against_ice', 'against_normal', 'against_poison', 'against_psychic', 'against_rock', 'against_steel', 'against_water', 'attack', 'base_egg_steps', 'base_happiness', 'base_total', 'capture_rate', 'defense', 'experience_growth', 'height_m', 'hp', 'sp_attack', 'sp_defense', 'speed', 'weight_kg', 'generation', 'is_legendary', 'total_abilities']\n"
     ]
    }
   ],
   "source": [
    "#delete later\n",
    "categorical_columns = [c for c in pokemon_df.columns \n",
    "                       if pokemon_df[c].dtype.name == 'object']\n",
    "numerical_columns = [c for c in pokemon_df.columns \n",
    "                     if pokemon_df[c].dtype.name != 'object']\n",
    "\n",
    "print('categorical_columns:', categorical_columns)\n",
    "print()\n",
    "print('numerical_columns:', numerical_columns)"
   ]
  },
  {
   "cell_type": "code",
   "execution_count": 28,
   "metadata": {},
   "outputs": [
    {
     "data": {
      "text/plain": [
       "588"
      ]
     },
     "execution_count": 28,
     "metadata": {},
     "output_type": "execute_result"
    }
   ],
   "source": [
    "#No. of unique values in column 'classfication'\n",
    "pokemon_df['classfication'].nunique()"
   ]
  },
  {
   "cell_type": "code",
   "execution_count": 29,
   "metadata": {},
   "outputs": [],
   "source": [
    "#too many unique values! \n",
    "#Drop the column\n",
    "pokemon_df = pokemon_df.drop(pokemon_df.loc[:,['classfication']], \n",
    "                    axis = 1)"
   ]
  },
  {
   "cell_type": "markdown",
   "metadata": {},
   "source": [
    "- Make new column to indicate single-type/dual-type"
   ]
  },
  {
   "cell_type": "code",
   "execution_count": 30,
   "metadata": {},
   "outputs": [],
   "source": [
    "total_types = []\n",
    "for i in range(len(pokemon_df)):\n",
    "    if pokemon_df['type2'][i] == 'NA':\n",
    "        total_types.append(1)\n",
    "    else:\n",
    "        total_types.append(2)  \n",
    "len(total_types)\n",
    "pokemon_df['total_types'] = total_types"
   ]
  },
  {
   "cell_type": "code",
   "execution_count": 31,
   "metadata": {},
   "outputs": [
    {
     "data": {
      "text/html": [
       "<div>\n",
       "<style scoped>\n",
       "    .dataframe tbody tr th:only-of-type {\n",
       "        vertical-align: middle;\n",
       "    }\n",
       "\n",
       "    .dataframe tbody tr th {\n",
       "        vertical-align: top;\n",
       "    }\n",
       "\n",
       "    .dataframe thead th {\n",
       "        text-align: right;\n",
       "    }\n",
       "</style>\n",
       "<table border=\"1\" class=\"dataframe\">\n",
       "  <thead>\n",
       "    <tr style=\"text-align: right;\">\n",
       "      <th></th>\n",
       "      <th>against_bug</th>\n",
       "      <th>against_dark</th>\n",
       "      <th>against_dragon</th>\n",
       "      <th>against_electric</th>\n",
       "      <th>against_fairy</th>\n",
       "      <th>against_fight</th>\n",
       "      <th>against_fire</th>\n",
       "      <th>against_flying</th>\n",
       "      <th>against_ghost</th>\n",
       "      <th>against_grass</th>\n",
       "      <th>...</th>\n",
       "      <th>sp_attack</th>\n",
       "      <th>sp_defense</th>\n",
       "      <th>speed</th>\n",
       "      <th>type1</th>\n",
       "      <th>type2</th>\n",
       "      <th>weight_kg</th>\n",
       "      <th>generation</th>\n",
       "      <th>total_abilities</th>\n",
       "      <th>total_types</th>\n",
       "      <th>is_legendary</th>\n",
       "    </tr>\n",
       "  </thead>\n",
       "  <tbody>\n",
       "    <tr>\n",
       "      <th>0</th>\n",
       "      <td>1.0</td>\n",
       "      <td>1.0</td>\n",
       "      <td>1.0</td>\n",
       "      <td>0.5</td>\n",
       "      <td>0.5</td>\n",
       "      <td>0.5</td>\n",
       "      <td>2.0</td>\n",
       "      <td>2.0</td>\n",
       "      <td>1.0</td>\n",
       "      <td>0.25</td>\n",
       "      <td>...</td>\n",
       "      <td>65</td>\n",
       "      <td>65</td>\n",
       "      <td>45</td>\n",
       "      <td>grass</td>\n",
       "      <td>poison</td>\n",
       "      <td>6.9</td>\n",
       "      <td>1</td>\n",
       "      <td>2</td>\n",
       "      <td>2</td>\n",
       "      <td>0</td>\n",
       "    </tr>\n",
       "    <tr>\n",
       "      <th>1</th>\n",
       "      <td>1.0</td>\n",
       "      <td>1.0</td>\n",
       "      <td>1.0</td>\n",
       "      <td>0.5</td>\n",
       "      <td>0.5</td>\n",
       "      <td>0.5</td>\n",
       "      <td>2.0</td>\n",
       "      <td>2.0</td>\n",
       "      <td>1.0</td>\n",
       "      <td>0.25</td>\n",
       "      <td>...</td>\n",
       "      <td>80</td>\n",
       "      <td>80</td>\n",
       "      <td>60</td>\n",
       "      <td>grass</td>\n",
       "      <td>poison</td>\n",
       "      <td>13.0</td>\n",
       "      <td>1</td>\n",
       "      <td>2</td>\n",
       "      <td>2</td>\n",
       "      <td>0</td>\n",
       "    </tr>\n",
       "    <tr>\n",
       "      <th>2</th>\n",
       "      <td>1.0</td>\n",
       "      <td>1.0</td>\n",
       "      <td>1.0</td>\n",
       "      <td>0.5</td>\n",
       "      <td>0.5</td>\n",
       "      <td>0.5</td>\n",
       "      <td>2.0</td>\n",
       "      <td>2.0</td>\n",
       "      <td>1.0</td>\n",
       "      <td>0.25</td>\n",
       "      <td>...</td>\n",
       "      <td>122</td>\n",
       "      <td>120</td>\n",
       "      <td>80</td>\n",
       "      <td>grass</td>\n",
       "      <td>poison</td>\n",
       "      <td>100.0</td>\n",
       "      <td>1</td>\n",
       "      <td>2</td>\n",
       "      <td>2</td>\n",
       "      <td>0</td>\n",
       "    </tr>\n",
       "    <tr>\n",
       "      <th>3</th>\n",
       "      <td>0.5</td>\n",
       "      <td>1.0</td>\n",
       "      <td>1.0</td>\n",
       "      <td>1.0</td>\n",
       "      <td>0.5</td>\n",
       "      <td>1.0</td>\n",
       "      <td>0.5</td>\n",
       "      <td>1.0</td>\n",
       "      <td>1.0</td>\n",
       "      <td>0.50</td>\n",
       "      <td>...</td>\n",
       "      <td>60</td>\n",
       "      <td>50</td>\n",
       "      <td>65</td>\n",
       "      <td>fire</td>\n",
       "      <td>NA</td>\n",
       "      <td>8.5</td>\n",
       "      <td>1</td>\n",
       "      <td>2</td>\n",
       "      <td>1</td>\n",
       "      <td>0</td>\n",
       "    </tr>\n",
       "    <tr>\n",
       "      <th>4</th>\n",
       "      <td>0.5</td>\n",
       "      <td>1.0</td>\n",
       "      <td>1.0</td>\n",
       "      <td>1.0</td>\n",
       "      <td>0.5</td>\n",
       "      <td>1.0</td>\n",
       "      <td>0.5</td>\n",
       "      <td>1.0</td>\n",
       "      <td>1.0</td>\n",
       "      <td>0.50</td>\n",
       "      <td>...</td>\n",
       "      <td>80</td>\n",
       "      <td>65</td>\n",
       "      <td>80</td>\n",
       "      <td>fire</td>\n",
       "      <td>NA</td>\n",
       "      <td>19.0</td>\n",
       "      <td>1</td>\n",
       "      <td>2</td>\n",
       "      <td>1</td>\n",
       "      <td>0</td>\n",
       "    </tr>\n",
       "  </tbody>\n",
       "</table>\n",
       "<p>5 rows × 37 columns</p>\n",
       "</div>"
      ],
      "text/plain": [
       "   against_bug  against_dark  against_dragon  against_electric  against_fairy  \\\n",
       "0          1.0           1.0             1.0               0.5            0.5   \n",
       "1          1.0           1.0             1.0               0.5            0.5   \n",
       "2          1.0           1.0             1.0               0.5            0.5   \n",
       "3          0.5           1.0             1.0               1.0            0.5   \n",
       "4          0.5           1.0             1.0               1.0            0.5   \n",
       "\n",
       "   against_fight  against_fire  against_flying  against_ghost  against_grass  \\\n",
       "0            0.5           2.0             2.0            1.0           0.25   \n",
       "1            0.5           2.0             2.0            1.0           0.25   \n",
       "2            0.5           2.0             2.0            1.0           0.25   \n",
       "3            1.0           0.5             1.0            1.0           0.50   \n",
       "4            1.0           0.5             1.0            1.0           0.50   \n",
       "\n",
       "       ...       sp_attack  sp_defense  speed  type1   type2  weight_kg  \\\n",
       "0      ...              65          65     45  grass  poison        6.9   \n",
       "1      ...              80          80     60  grass  poison       13.0   \n",
       "2      ...             122         120     80  grass  poison      100.0   \n",
       "3      ...              60          50     65   fire      NA        8.5   \n",
       "4      ...              80          65     80   fire      NA       19.0   \n",
       "\n",
       "   generation  total_abilities  total_types  is_legendary  \n",
       "0           1                2            2             0  \n",
       "1           1                2            2             0  \n",
       "2           1                2            2             0  \n",
       "3           1                2            1             0  \n",
       "4           1                2            1             0  \n",
       "\n",
       "[5 rows x 37 columns]"
      ]
     },
     "execution_count": 31,
     "metadata": {},
     "output_type": "execute_result"
    }
   ],
   "source": [
    "df_target = pokemon_df.pop('is_legendary') # remove column  and store it in df_target\n",
    "pokemon_df['is_legendary']= df_target # add 'is_legendary' series as a 'new' column.\n",
    "pokemon_df.head()"
   ]
  },
  {
   "cell_type": "markdown",
   "metadata": {},
   "source": [
    "### Data Visualization"
   ]
  },
  {
   "cell_type": "markdown",
   "metadata": {},
   "source": [
    "#### Heatmap to see correlation (Plot A)"
   ]
  },
  {
   "cell_type": "code",
   "execution_count": 32,
   "metadata": {},
   "outputs": [
    {
     "data": {
      "text/plain": [
       "<matplotlib.axes._subplots.AxesSubplot at 0x1a16274ef0>"
      ]
     },
     "execution_count": 32,
     "metadata": {},
     "output_type": "execute_result"
    },
    {
     "data": {
      "image/png": "[encoded data removed]",
      "text/plain": [
       "<Figure size 792x648 with 2 Axes>"
      ]
     },
     "metadata": {},
     "output_type": "display_data"
    }
   ],
   "source": [
    "# Compute the correlation matrix\n",
    "sns.set(font_scale=1.0)\n",
    "corr = pokemon_df.corr()\n",
    "\n",
    "# Generate a mask for the upper triangle\n",
    "mask = np.zeros_like(corr, dtype=np.bool)\n",
    "mask[np.triu_indices_from(mask)] = True\n",
    "\n",
    "# Set up the matplotlib figure\n",
    "f, ax = plt.subplots(figsize=(11, 9))\n",
    "\n",
    "# Generate a custom diverging colormap\n",
    "cmap = sns.diverging_palette(220, 10, as_cmap=True)\n",
    "\n",
    "# Draw the heatmap with the mask and correct aspect ratio\n",
    "sns.heatmap(corr, mask=mask, cmap=cmap, vmax=.3, center=0,\n",
    "            square=True, linewidths=.5, cbar_kws={\"shrink\": .5})"
   ]
  },
  {
   "cell_type": "code",
   "execution_count": 33,
   "metadata": {},
   "outputs": [
    {
     "data": {
      "text/html": [
       "<div>\n",
       "<style scoped>\n",
       "    .dataframe tbody tr th:only-of-type {\n",
       "        vertical-align: middle;\n",
       "    }\n",
       "\n",
       "    .dataframe tbody tr th {\n",
       "        vertical-align: top;\n",
       "    }\n",
       "\n",
       "    .dataframe thead th {\n",
       "        text-align: right;\n",
       "    }\n",
       "</style>\n",
       "<table border=\"1\" class=\"dataframe\">\n",
       "  <thead>\n",
       "    <tr style=\"text-align: right;\">\n",
       "      <th></th>\n",
       "      <th>is_legendary</th>\n",
       "      <th>count</th>\n",
       "    </tr>\n",
       "  </thead>\n",
       "  <tbody>\n",
       "    <tr>\n",
       "      <th>0</th>\n",
       "      <td>0</td>\n",
       "      <td>731</td>\n",
       "    </tr>\n",
       "    <tr>\n",
       "      <th>1</th>\n",
       "      <td>1</td>\n",
       "      <td>70</td>\n",
       "    </tr>\n",
       "  </tbody>\n",
       "</table>\n",
       "</div>"
      ],
      "text/plain": [
       "   is_legendary  count\n",
       "0             0    731\n",
       "1             1     70"
      ]
     },
     "execution_count": 33,
     "metadata": {},
     "output_type": "execute_result"
    }
   ],
   "source": [
    "legendary_count = pd.DataFrame(pokemon_df.groupby(['is_legendary']).size().reset_index(name = 'count'))\n",
    "legendary_count = legendary_count.sort_values(by=['is_legendary', 'count'], ascending = True)\n",
    "legendary_count"
   ]
  },
  {
   "cell_type": "code",
   "execution_count": 34,
   "metadata": {},
   "outputs": [
    {
     "data": {
      "text/html": [
       "<div>\n",
       "<style scoped>\n",
       "    .dataframe tbody tr th:only-of-type {\n",
       "        vertical-align: middle;\n",
       "    }\n",
       "\n",
       "    .dataframe tbody tr th {\n",
       "        vertical-align: top;\n",
       "    }\n",
       "\n",
       "    .dataframe thead th {\n",
       "        text-align: right;\n",
       "    }\n",
       "</style>\n",
       "<table border=\"1\" class=\"dataframe\">\n",
       "  <thead>\n",
       "    <tr style=\"text-align: right;\">\n",
       "      <th></th>\n",
       "      <th>total_types</th>\n",
       "      <th>count</th>\n",
       "    </tr>\n",
       "  </thead>\n",
       "  <tbody>\n",
       "    <tr>\n",
       "      <th>0</th>\n",
       "      <td>1</td>\n",
       "      <td>384</td>\n",
       "    </tr>\n",
       "    <tr>\n",
       "      <th>1</th>\n",
       "      <td>2</td>\n",
       "      <td>417</td>\n",
       "    </tr>\n",
       "  </tbody>\n",
       "</table>\n",
       "</div>"
      ],
      "text/plain": [
       "   total_types  count\n",
       "0            1    384\n",
       "1            2    417"
      ]
     },
     "execution_count": 34,
     "metadata": {},
     "output_type": "execute_result"
    }
   ],
   "source": [
    "type_count = pd.DataFrame(pokemon_df.groupby(['total_types']).size().reset_index(name = 'count'))\n",
    "type_count = type_count.sort_values(by=['total_types', 'count'], ascending = True)\n",
    "type_count\n",
    "\n"
   ]
  },
  {
   "cell_type": "markdown",
   "metadata": {},
   "source": [
    "### Plot B"
   ]
  },
  {
   "cell_type": "code",
   "execution_count": 35,
   "metadata": {},
   "outputs": [
    {
     "data": {
      "image/png": "[encoded data removed]",
      "text/plain": [
       "<Figure size 432x288 with 1 Axes>"
      ]
     },
     "metadata": {},
     "output_type": "display_data"
    }
   ],
   "source": [
    "sns.set(style='white')\n",
    "sns.barplot(type_count['total_types'],type_count['count'], palette='Set2')\n",
    "sns.despine()"
   ]
  },
  {
   "cell_type": "code",
   "execution_count": 36,
   "metadata": {},
   "outputs": [],
   "source": [
    "#Comment\n",
    "#There are more dual-type pokemons compared to single-type pokemons"
   ]
  },
  {
   "cell_type": "code",
   "execution_count": 37,
   "metadata": {},
   "outputs": [
    {
     "data": {
      "text/html": [
       "<div>\n",
       "<style scoped>\n",
       "    .dataframe tbody tr th:only-of-type {\n",
       "        vertical-align: middle;\n",
       "    }\n",
       "\n",
       "    .dataframe tbody tr th {\n",
       "        vertical-align: top;\n",
       "    }\n",
       "\n",
       "    .dataframe thead th {\n",
       "        text-align: right;\n",
       "    }\n",
       "</style>\n",
       "<table border=\"1\" class=\"dataframe\">\n",
       "  <thead>\n",
       "    <tr style=\"text-align: right;\">\n",
       "      <th></th>\n",
       "      <th>is_legendary</th>\n",
       "      <th>total_types</th>\n",
       "      <th>count</th>\n",
       "    </tr>\n",
       "  </thead>\n",
       "  <tbody>\n",
       "    <tr>\n",
       "      <th>0</th>\n",
       "      <td>0</td>\n",
       "      <td>1</td>\n",
       "      <td>359</td>\n",
       "    </tr>\n",
       "    <tr>\n",
       "      <th>1</th>\n",
       "      <td>0</td>\n",
       "      <td>2</td>\n",
       "      <td>372</td>\n",
       "    </tr>\n",
       "    <tr>\n",
       "      <th>2</th>\n",
       "      <td>1</td>\n",
       "      <td>1</td>\n",
       "      <td>25</td>\n",
       "    </tr>\n",
       "    <tr>\n",
       "      <th>3</th>\n",
       "      <td>1</td>\n",
       "      <td>2</td>\n",
       "      <td>45</td>\n",
       "    </tr>\n",
       "  </tbody>\n",
       "</table>\n",
       "</div>"
      ],
      "text/plain": [
       "   is_legendary  total_types  count\n",
       "0             0            1    359\n",
       "1             0            2    372\n",
       "2             1            1     25\n",
       "3             1            2     45"
      ]
     },
     "execution_count": 37,
     "metadata": {},
     "output_type": "execute_result"
    }
   ],
   "source": [
    "legendary_type = pd.DataFrame(pokemon_df.groupby(['is_legendary','total_types']).size().reset_index(name = 'count'))\n",
    "legendary_type = legendary_type.sort_values(by=['is_legendary', 'count'], ascending = True)\n",
    "legendary_type\n",
    "\n"
   ]
  },
  {
   "cell_type": "markdown",
   "metadata": {},
   "source": [
    "### Plot C"
   ]
  },
  {
   "cell_type": "code",
   "execution_count": 38,
   "metadata": {},
   "outputs": [
    {
     "data": {
      "image/png": "[encoded data removed]",
      "text/plain": [
       "<Figure size 432x288 with 1 Axes>"
      ]
     },
     "metadata": {},
     "output_type": "display_data"
    }
   ],
   "source": [
    "sns.set(style='white')\n",
    "sns.barplot(legendary_type['total_types'],legendary_type['count'], palette='Set2', \n",
    "            hue=legendary_type['is_legendary'])\n",
    "sns.despine()"
   ]
  },
  {
   "cell_type": "markdown",
   "metadata": {},
   "source": [
    "### Plot D"
   ]
  },
  {
   "cell_type": "code",
   "execution_count": 39,
   "metadata": {},
   "outputs": [
    {
     "data": {
      "image/png": "[encoded data removed]",
      "text/plain": [
       "<Figure size 432x288 with 1 Axes>"
      ]
     },
     "metadata": {},
     "output_type": "display_data"
    }
   ],
   "source": [
    "legendary_type1 = legendary_type[legendary_type['is_legendary'] == 1]\n",
    "sns.set(style='white')\n",
    "sns.barplot(legendary_type1['total_types'],legendary_type1['count'], \n",
    "            palette='BuGn')\n",
    "sns.despine()"
   ]
  },
  {
   "cell_type": "code",
   "execution_count": 40,
   "metadata": {},
   "outputs": [],
   "source": [
    "#Comment\n",
    "#There are more legendary of dual-type compared to single-type"
   ]
  },
  {
   "cell_type": "code",
   "execution_count": 41,
   "metadata": {},
   "outputs": [
    {
     "data": {
      "text/html": [
       "<div>\n",
       "<style scoped>\n",
       "    .dataframe tbody tr th:only-of-type {\n",
       "        vertical-align: middle;\n",
       "    }\n",
       "\n",
       "    .dataframe tbody tr th {\n",
       "        vertical-align: top;\n",
       "    }\n",
       "\n",
       "    .dataframe thead th {\n",
       "        text-align: right;\n",
       "    }\n",
       "</style>\n",
       "<table border=\"1\" class=\"dataframe\">\n",
       "  <thead>\n",
       "    <tr style=\"text-align: right;\">\n",
       "      <th></th>\n",
       "      <th>is_legendary</th>\n",
       "      <th>total_abilities</th>\n",
       "      <th>count</th>\n",
       "    </tr>\n",
       "  </thead>\n",
       "  <tbody>\n",
       "    <tr>\n",
       "      <th>0</th>\n",
       "      <td>0</td>\n",
       "      <td>1</td>\n",
       "      <td>65</td>\n",
       "    </tr>\n",
       "    <tr>\n",
       "      <th>1</th>\n",
       "      <td>0</td>\n",
       "      <td>2</td>\n",
       "      <td>224</td>\n",
       "    </tr>\n",
       "    <tr>\n",
       "      <th>2</th>\n",
       "      <td>0</td>\n",
       "      <td>3</td>\n",
       "      <td>422</td>\n",
       "    </tr>\n",
       "    <tr>\n",
       "      <th>3</th>\n",
       "      <td>0</td>\n",
       "      <td>4</td>\n",
       "      <td>7</td>\n",
       "    </tr>\n",
       "    <tr>\n",
       "      <th>4</th>\n",
       "      <td>0</td>\n",
       "      <td>6</td>\n",
       "      <td>13</td>\n",
       "    </tr>\n",
       "    <tr>\n",
       "      <th>5</th>\n",
       "      <td>1</td>\n",
       "      <td>1</td>\n",
       "      <td>44</td>\n",
       "    </tr>\n",
       "    <tr>\n",
       "      <th>6</th>\n",
       "      <td>1</td>\n",
       "      <td>2</td>\n",
       "      <td>21</td>\n",
       "    </tr>\n",
       "    <tr>\n",
       "      <th>7</th>\n",
       "      <td>1</td>\n",
       "      <td>3</td>\n",
       "      <td>5</td>\n",
       "    </tr>\n",
       "  </tbody>\n",
       "</table>\n",
       "</div>"
      ],
      "text/plain": [
       "   is_legendary  total_abilities  count\n",
       "0             0                1     65\n",
       "1             0                2    224\n",
       "2             0                3    422\n",
       "3             0                4      7\n",
       "4             0                6     13\n",
       "5             1                1     44\n",
       "6             1                2     21\n",
       "7             1                3      5"
      ]
     },
     "execution_count": 41,
     "metadata": {},
     "output_type": "execute_result"
    }
   ],
   "source": [
    "legendary_abilities = pd.DataFrame(pokemon_df.groupby(['is_legendary','total_abilities']).size().reset_index(name = 'count'))\n",
    "legendary_abilities = legendary_abilities.sort_values(by=['is_legendary','total_abilities','count'], \n",
    "                                                      ascending = True)\n",
    "legendary_abilities\n",
    "\n"
   ]
  },
  {
   "cell_type": "markdown",
   "metadata": {},
   "source": [
    "### Plot E"
   ]
  },
  {
   "cell_type": "code",
   "execution_count": 42,
   "metadata": {},
   "outputs": [
    {
     "data": {
      "image/png": "[encoded data removed]",
      "text/plain": [
       "<Figure size 576x360 with 1 Axes>"
      ]
     },
     "metadata": {},
     "output_type": "display_data"
    }
   ],
   "source": [
    "legendary_abilities1 = legendary_abilities[legendary_abilities['is_legendary'] == 1]\n",
    "\n",
    "labels = legendary_abilities1['total_abilities']\n",
    "values = legendary_abilities1['count']\n",
    "clrs = ['lightgrey' if (x < max(values)) else 'seagreen' for x in values ]\n",
    "#Configure the size\n",
    "plt.figure(figsize=(8,5))\n",
    "#barplot\n",
    "plot_a = sns.barplot(x=labels, y=values, palette=clrs) # color=clrs\n",
    "plot_a.set_title('Most Legendary Pokemons have one total abilities', fontsize=16)\n",
    "sns.despine()"
   ]
  },
  {
   "cell_type": "markdown",
   "metadata": {},
   "source": [
    "### Plot F"
   ]
  },
  {
   "cell_type": "code",
   "execution_count": 43,
   "metadata": {},
   "outputs": [
    {
     "data": {
      "image/png": "[encoded data removed]",
      "text/plain": [
       "<Figure size 576x360 with 1 Axes>"
      ]
     },
     "metadata": {},
     "output_type": "display_data"
    }
   ],
   "source": [
    "legendary_abilities0 = legendary_abilities[legendary_abilities['is_legendary'] == 0]\n",
    "\n",
    "labels = legendary_abilities0['total_abilities']\n",
    "values = legendary_abilities0['count']\n",
    "clrs = ['lightgrey' if (x < max(values)) else 'lightsalmon' for x in values ]\n",
    "#Configure the size\n",
    "plt.figure(figsize=(8,5))\n",
    "#barplot\n",
    "plot_b = sns.barplot(x=labels, y=values, palette=clrs) # color=clrs\n",
    "plot_b.set_title('Most Non-Legendary Pokemons have 3 total abilities', fontsize=16)\n",
    "sns.despine()"
   ]
  },
  {
   "cell_type": "code",
   "execution_count": 44,
   "metadata": {},
   "outputs": [],
   "source": [
    "legendary_type1 = pd.DataFrame(\n",
    "    pokemon_df.groupby(['type1','is_legendary']).size().reset_index(name = 'count'))\n",
    "legendary_type1 = legendary_type1.sort_values(by=['is_legendary','count'], \n",
    "                                              ascending = [True,False])"
   ]
  },
  {
   "cell_type": "markdown",
   "metadata": {},
   "source": [
    "### Plot G"
   ]
  },
  {
   "cell_type": "code",
   "execution_count": 45,
   "metadata": {},
   "outputs": [
    {
     "data": {
      "image/png": "[encoded data removed]",
      "text/plain": [
       "<Figure size 1080x576 with 2 Axes>"
      ]
     },
     "metadata": {},
     "output_type": "display_data"
    }
   ],
   "source": [
    "sns.set(style='white')\n",
    "fig, ax =plt.subplots(1,2, figsize=(15,8)) #subplot 1x2\n",
    "\n",
    "plot1 = sns.barplot(legendary_type1.iloc[:18,0],legendary_type1.iloc[:18,2],\n",
    "                palette='GnBu_r', ax=ax[0])\n",
    "plot2 = sns.barplot(legendary_type1.iloc[18:,0],legendary_type1.iloc[18:,2],\n",
    "                palette='GnBu_r', ax=ax[1])\n",
    "\n",
    "#rotate x labels\n",
    "plot1.set_xticklabels(plot1.get_xticklabels(),rotation=45)\n",
    "plot2.set_xticklabels(plot2.get_xticklabels(),rotation=45)\n",
    "\n",
    "#set y limits\n",
    "plot1.set(ylim=(0, 120))\n",
    "plot2.set(ylim=(0, 120))\n",
    "\n",
    "plot1.set_title('Legendary = 0', fontsize=20)\n",
    "plot2.set_title('Legendary = 1', fontsize=20)\n",
    "sns.despine()\n"
   ]
  },
  {
   "cell_type": "code",
   "execution_count": 46,
   "metadata": {},
   "outputs": [],
   "source": [
    "#Comment\n",
    "#For type 1 pokemons:\n",
    "#Most non-legendary pokemons are water type,followed by normal, and grass type\n",
    "#Most legendary pokemons are psychic type,followed by dragon, steel type"
   ]
  },
  {
   "cell_type": "code",
   "execution_count": 47,
   "metadata": {},
   "outputs": [],
   "source": [
    "legendary_type2 = pd.DataFrame(\n",
    "    pokemon_df.groupby(['type2','is_legendary']).size().reset_index(name = 'count'))\n",
    "\n",
    "legendary_type2 = legendary_type2.sort_values(\n",
    "    by=['is_legendary', 'count'], ascending =[True, False])"
   ]
  },
  {
   "cell_type": "code",
   "execution_count": 48,
   "metadata": {},
   "outputs": [
    {
     "data": {
      "text/plain": [
       "0.4794007490636704"
      ]
     },
     "execution_count": 48,
     "metadata": {},
     "output_type": "execute_result"
    }
   ],
   "source": [
    "#Single-Type Pokemons\n",
    "(359+25)/801"
   ]
  },
  {
   "cell_type": "code",
   "execution_count": 49,
   "metadata": {},
   "outputs": [
    {
     "data": {
      "text/plain": [
       "0.5205992509363296"
      ]
     },
     "execution_count": 49,
     "metadata": {},
     "output_type": "execute_result"
    }
   ],
   "source": [
    "#Dual-Type Pokemons\n",
    "(372+10+12+12+6+5)/801"
   ]
  },
  {
   "cell_type": "markdown",
   "metadata": {},
   "source": [
    "### Plot H"
   ]
  },
  {
   "cell_type": "code",
   "execution_count": 50,
   "metadata": {},
   "outputs": [
    {
     "data": {
      "image/png": "[encoded data removed]",
      "text/plain": [
       "<Figure size 1080x576 with 2 Axes>"
      ]
     },
     "metadata": {},
     "output_type": "display_data"
    }
   ],
   "source": [
    "sns.set(style='white')\n",
    "fig, ax =plt.subplots(1,2, figsize=(15,8)) #subplot 1x2\n",
    "\n",
    "plot1 = sns.barplot(legendary_type2.iloc[:19,0],legendary_type2.iloc[:19,2],\n",
    "                palette='GnBu_r', ax=ax[0])\n",
    "plot2 = sns.barplot(legendary_type2.iloc[19:,0],legendary_type2.iloc[19:,2],\n",
    "                palette='GnBu_r', ax=ax[1])\n",
    "\n",
    "#rotate x labels\n",
    "plot1.set_xticklabels(plot1.get_xticklabels(),rotation=45)\n",
    "plot2.set_xticklabels(plot2.get_xticklabels(),rotation=45)\n",
    "\n",
    "#set y limits\n",
    "plot1.set(ylim=(0, 400))\n",
    "plot2.set(ylim=(0, 400))\n",
    "\n",
    "plot1.set_title('Legendary = 0', fontsize=20)\n",
    "plot2.set_title('Legendary = 1', fontsize=20)\n",
    "sns.despine()\n",
    "\n"
   ]
  },
  {
   "cell_type": "code",
   "execution_count": 51,
   "metadata": {},
   "outputs": [],
   "source": [
    "#Comment\n",
    "#More than half pokemons are dual-types"
   ]
  },
  {
   "cell_type": "code",
   "execution_count": 52,
   "metadata": {},
   "outputs": [
    {
     "data": {
      "text/html": [
       "<div>\n",
       "<style scoped>\n",
       "    .dataframe tbody tr th:only-of-type {\n",
       "        vertical-align: middle;\n",
       "    }\n",
       "\n",
       "    .dataframe tbody tr th {\n",
       "        vertical-align: top;\n",
       "    }\n",
       "\n",
       "    .dataframe thead th {\n",
       "        text-align: right;\n",
       "    }\n",
       "</style>\n",
       "<table border=\"1\" class=\"dataframe\">\n",
       "  <thead>\n",
       "    <tr style=\"text-align: right;\">\n",
       "      <th></th>\n",
       "      <th>generation</th>\n",
       "      <th>is_legendary</th>\n",
       "      <th>hp</th>\n",
       "      <th>attack</th>\n",
       "      <th>speed</th>\n",
       "      <th>sp_attack</th>\n",
       "      <th>sp_defense</th>\n",
       "      <th>weight_kg</th>\n",
       "      <th>height_m</th>\n",
       "      <th>base_happiness</th>\n",
       "      <th>capture_rate</th>\n",
       "    </tr>\n",
       "  </thead>\n",
       "  <tbody>\n",
       "    <tr>\n",
       "      <th>0</th>\n",
       "      <td>1</td>\n",
       "      <td>0</td>\n",
       "      <td>63.29</td>\n",
       "      <td>73.49</td>\n",
       "      <td>69.03</td>\n",
       "      <td>67.40</td>\n",
       "      <td>66.50</td>\n",
       "      <td>45.51</td>\n",
       "      <td>1.18</td>\n",
       "      <td>70.72</td>\n",
       "      <td>109.43</td>\n",
       "    </tr>\n",
       "    <tr>\n",
       "      <th>2</th>\n",
       "      <td>2</td>\n",
       "      <td>0</td>\n",
       "      <td>68.95</td>\n",
       "      <td>68.10</td>\n",
       "      <td>59.16</td>\n",
       "      <td>63.24</td>\n",
       "      <td>70.70</td>\n",
       "      <td>41.78</td>\n",
       "      <td>1.07</td>\n",
       "      <td>68.14</td>\n",
       "      <td>97.13</td>\n",
       "    </tr>\n",
       "    <tr>\n",
       "      <th>4</th>\n",
       "      <td>3</td>\n",
       "      <td>0</td>\n",
       "      <td>64.08</td>\n",
       "      <td>74.08</td>\n",
       "      <td>61.10</td>\n",
       "      <td>67.45</td>\n",
       "      <td>64.86</td>\n",
       "      <td>54.20</td>\n",
       "      <td>1.12</td>\n",
       "      <td>63.84</td>\n",
       "      <td>121.85</td>\n",
       "    </tr>\n",
       "    <tr>\n",
       "      <th>6</th>\n",
       "      <td>4</td>\n",
       "      <td>0</td>\n",
       "      <td>69.59</td>\n",
       "      <td>79.23</td>\n",
       "      <td>65.89</td>\n",
       "      <td>69.16</td>\n",
       "      <td>70.40</td>\n",
       "      <td>54.76</td>\n",
       "      <td>1.00</td>\n",
       "      <td>69.04</td>\n",
       "      <td>88.90</td>\n",
       "    </tr>\n",
       "    <tr>\n",
       "      <th>8</th>\n",
       "      <td>5</td>\n",
       "      <td>0</td>\n",
       "      <td>68.27</td>\n",
       "      <td>77.61</td>\n",
       "      <td>63.15</td>\n",
       "      <td>66.00</td>\n",
       "      <td>65.31</td>\n",
       "      <td>42.88</td>\n",
       "      <td>0.96</td>\n",
       "      <td>67.31</td>\n",
       "      <td>112.20</td>\n",
       "    </tr>\n",
       "    <tr>\n",
       "      <th>10</th>\n",
       "      <td>6</td>\n",
       "      <td>0</td>\n",
       "      <td>67.30</td>\n",
       "      <td>71.48</td>\n",
       "      <td>64.48</td>\n",
       "      <td>71.21</td>\n",
       "      <td>70.44</td>\n",
       "      <td>42.45</td>\n",
       "      <td>0.93</td>\n",
       "      <td>68.41</td>\n",
       "      <td>107.98</td>\n",
       "    </tr>\n",
       "    <tr>\n",
       "      <th>12</th>\n",
       "      <td>7</td>\n",
       "      <td>0</td>\n",
       "      <td>64.76</td>\n",
       "      <td>80.24</td>\n",
       "      <td>58.68</td>\n",
       "      <td>68.21</td>\n",
       "      <td>72.98</td>\n",
       "      <td>57.50</td>\n",
       "      <td>0.97</td>\n",
       "      <td>67.78</td>\n",
       "      <td>97.43</td>\n",
       "    </tr>\n",
       "    <tr>\n",
       "      <th>1</th>\n",
       "      <td>1</td>\n",
       "      <td>1</td>\n",
       "      <td>95.20</td>\n",
       "      <td>105.00</td>\n",
       "      <td>103.00</td>\n",
       "      <td>127.80</td>\n",
       "      <td>104.00</td>\n",
       "      <td>58.80</td>\n",
       "      <td>1.54</td>\n",
       "      <td>41.00</td>\n",
       "      <td>11.40</td>\n",
       "    </tr>\n",
       "    <tr>\n",
       "      <th>3</th>\n",
       "      <td>2</td>\n",
       "      <td>1</td>\n",
       "      <td>102.83</td>\n",
       "      <td>99.17</td>\n",
       "      <td>100.00</td>\n",
       "      <td>99.17</td>\n",
       "      <td>116.33</td>\n",
       "      <td>163.83</td>\n",
       "      <td>2.60</td>\n",
       "      <td>34.17</td>\n",
       "      <td>10.00</td>\n",
       "    </tr>\n",
       "    <tr>\n",
       "      <th>5</th>\n",
       "      <td>3</td>\n",
       "      <td>1</td>\n",
       "      <td>85.50</td>\n",
       "      <td>116.00</td>\n",
       "      <td>94.50</td>\n",
       "      <td>123.00</td>\n",
       "      <td>126.00</td>\n",
       "      <td>228.04</td>\n",
       "      <td>2.58</td>\n",
       "      <td>38.50</td>\n",
       "      <td>7.20</td>\n",
       "    </tr>\n",
       "    <tr>\n",
       "      <th>7</th>\n",
       "      <td>4</td>\n",
       "      <td>1</td>\n",
       "      <td>98.54</td>\n",
       "      <td>107.54</td>\n",
       "      <td>100.31</td>\n",
       "      <td>114.23</td>\n",
       "      <td>104.31</td>\n",
       "      <td>236.88</td>\n",
       "      <td>2.08</td>\n",
       "      <td>60.77</td>\n",
       "      <td>6.23</td>\n",
       "    </tr>\n",
       "    <tr>\n",
       "      <th>9</th>\n",
       "      <td>5</td>\n",
       "      <td>1</td>\n",
       "      <td>92.85</td>\n",
       "      <td>113.00</td>\n",
       "      <td>103.62</td>\n",
       "      <td>113.69</td>\n",
       "      <td>94.08</td>\n",
       "      <td>157.19</td>\n",
       "      <td>1.81</td>\n",
       "      <td>46.92</td>\n",
       "      <td>3.00</td>\n",
       "    </tr>\n",
       "    <tr>\n",
       "      <th>11</th>\n",
       "      <td>6</td>\n",
       "      <td>1</td>\n",
       "      <td>113.00</td>\n",
       "      <td>132.00</td>\n",
       "      <td>90.50</td>\n",
       "      <td>135.50</td>\n",
       "      <td>103.50</td>\n",
       "      <td>152.57</td>\n",
       "      <td>2.78</td>\n",
       "      <td>45.00</td>\n",
       "      <td>17.00</td>\n",
       "    </tr>\n",
       "    <tr>\n",
       "      <th>13</th>\n",
       "      <td>7</td>\n",
       "      <td>1</td>\n",
       "      <td>92.12</td>\n",
       "      <td>100.94</td>\n",
       "      <td>83.88</td>\n",
       "      <td>101.35</td>\n",
       "      <td>85.53</td>\n",
       "      <td>245.20</td>\n",
       "      <td>2.44</td>\n",
       "      <td>16.47</td>\n",
       "      <td>49.88</td>\n",
       "    </tr>\n",
       "  </tbody>\n",
       "</table>\n",
       "</div>"
      ],
      "text/plain": [
       "    generation  is_legendary      hp  attack   speed  sp_attack  sp_defense  \\\n",
       "0            1             0   63.29   73.49   69.03      67.40       66.50   \n",
       "2            2             0   68.95   68.10   59.16      63.24       70.70   \n",
       "4            3             0   64.08   74.08   61.10      67.45       64.86   \n",
       "6            4             0   69.59   79.23   65.89      69.16       70.40   \n",
       "8            5             0   68.27   77.61   63.15      66.00       65.31   \n",
       "10           6             0   67.30   71.48   64.48      71.21       70.44   \n",
       "12           7             0   64.76   80.24   58.68      68.21       72.98   \n",
       "1            1             1   95.20  105.00  103.00     127.80      104.00   \n",
       "3            2             1  102.83   99.17  100.00      99.17      116.33   \n",
       "5            3             1   85.50  116.00   94.50     123.00      126.00   \n",
       "7            4             1   98.54  107.54  100.31     114.23      104.31   \n",
       "9            5             1   92.85  113.00  103.62     113.69       94.08   \n",
       "11           6             1  113.00  132.00   90.50     135.50      103.50   \n",
       "13           7             1   92.12  100.94   83.88     101.35       85.53   \n",
       "\n",
       "    weight_kg  height_m  base_happiness  capture_rate  \n",
       "0       45.51      1.18           70.72        109.43  \n",
       "2       41.78      1.07           68.14         97.13  \n",
       "4       54.20      1.12           63.84        121.85  \n",
       "6       54.76      1.00           69.04         88.90  \n",
       "8       42.88      0.96           67.31        112.20  \n",
       "10      42.45      0.93           68.41        107.98  \n",
       "12      57.50      0.97           67.78         97.43  \n",
       "1       58.80      1.54           41.00         11.40  \n",
       "3      163.83      2.60           34.17         10.00  \n",
       "5      228.04      2.58           38.50          7.20  \n",
       "7      236.88      2.08           60.77          6.23  \n",
       "9      157.19      1.81           46.92          3.00  \n",
       "11     152.57      2.78           45.00         17.00  \n",
       "13     245.20      2.44           16.47         49.88  "
      ]
     },
     "execution_count": 52,
     "metadata": {},
     "output_type": "execute_result"
    }
   ],
   "source": [
    "generation_df = pokemon_df.groupby(['generation','is_legendary']\n",
    "                                  )['hp','attack','speed',\n",
    "                                    'sp_attack','sp_defense','weight_kg',\n",
    "                                    'height_m','base_happiness','capture_rate'\n",
    "                                   ].mean().astype(float).round(2).reset_index()\n",
    "generation_df = generation_df.sort_values(by=['is_legendary','generation'], \n",
    "                                              ascending = [True,True])\n",
    "\n",
    "generation_df"
   ]
  },
  {
   "cell_type": "code",
   "execution_count": 53,
   "metadata": {},
   "outputs": [
    {
     "data": {
      "text/html": [
       "<div>\n",
       "<style scoped>\n",
       "    .dataframe tbody tr th:only-of-type {\n",
       "        vertical-align: middle;\n",
       "    }\n",
       "\n",
       "    .dataframe tbody tr th {\n",
       "        vertical-align: top;\n",
       "    }\n",
       "\n",
       "    .dataframe thead th {\n",
       "        text-align: right;\n",
       "    }\n",
       "</style>\n",
       "<table border=\"1\" class=\"dataframe\">\n",
       "  <thead>\n",
       "    <tr style=\"text-align: right;\">\n",
       "      <th></th>\n",
       "      <th>generation</th>\n",
       "      <th>hp</th>\n",
       "      <th>attack</th>\n",
       "      <th>speed</th>\n",
       "      <th>sp_attack</th>\n",
       "      <th>sp_defense</th>\n",
       "      <th>weight_kg</th>\n",
       "      <th>height_m</th>\n",
       "      <th>base_total</th>\n",
       "      <th>capture_rate</th>\n",
       "    </tr>\n",
       "  </thead>\n",
       "  <tbody>\n",
       "    <tr>\n",
       "      <th>0</th>\n",
       "      <td>1</td>\n",
       "      <td>64.3</td>\n",
       "      <td>74.5</td>\n",
       "      <td>70.2</td>\n",
       "      <td>69.4</td>\n",
       "      <td>67.7</td>\n",
       "      <td>46.0</td>\n",
       "      <td>1.2</td>\n",
       "      <td>416.3</td>\n",
       "      <td>106.2</td>\n",
       "    </tr>\n",
       "    <tr>\n",
       "      <th>1</th>\n",
       "      <td>2</td>\n",
       "      <td>71.0</td>\n",
       "      <td>70.0</td>\n",
       "      <td>61.6</td>\n",
       "      <td>65.4</td>\n",
       "      <td>73.4</td>\n",
       "      <td>49.1</td>\n",
       "      <td>1.2</td>\n",
       "      <td>413.2</td>\n",
       "      <td>91.9</td>\n",
       "    </tr>\n",
       "    <tr>\n",
       "      <th>2</th>\n",
       "      <td>3</td>\n",
       "      <td>65.7</td>\n",
       "      <td>77.2</td>\n",
       "      <td>63.6</td>\n",
       "      <td>71.6</td>\n",
       "      <td>69.4</td>\n",
       "      <td>67.1</td>\n",
       "      <td>1.2</td>\n",
       "      <td>420.0</td>\n",
       "      <td>113.4</td>\n",
       "    </tr>\n",
       "    <tr>\n",
       "      <th>3</th>\n",
       "      <td>4</td>\n",
       "      <td>73.1</td>\n",
       "      <td>82.7</td>\n",
       "      <td>70.1</td>\n",
       "      <td>74.6</td>\n",
       "      <td>74.5</td>\n",
       "      <td>76.9</td>\n",
       "      <td>1.1</td>\n",
       "      <td>451.2</td>\n",
       "      <td>78.9</td>\n",
       "    </tr>\n",
       "    <tr>\n",
       "      <th>4</th>\n",
       "      <td>5</td>\n",
       "      <td>70.3</td>\n",
       "      <td>80.6</td>\n",
       "      <td>66.5</td>\n",
       "      <td>70.0</td>\n",
       "      <td>67.7</td>\n",
       "      <td>52.4</td>\n",
       "      <td>1.0</td>\n",
       "      <td>427.0</td>\n",
       "      <td>103.1</td>\n",
       "    </tr>\n",
       "    <tr>\n",
       "      <th>5</th>\n",
       "      <td>6</td>\n",
       "      <td>71.1</td>\n",
       "      <td>76.5</td>\n",
       "      <td>66.7</td>\n",
       "      <td>76.6</td>\n",
       "      <td>73.2</td>\n",
       "      <td>51.6</td>\n",
       "      <td>1.1</td>\n",
       "      <td>437.6</td>\n",
       "      <td>100.4</td>\n",
       "    </tr>\n",
       "    <tr>\n",
       "      <th>6</th>\n",
       "      <td>7</td>\n",
       "      <td>70.6</td>\n",
       "      <td>84.6</td>\n",
       "      <td>64.0</td>\n",
       "      <td>75.2</td>\n",
       "      <td>75.6</td>\n",
       "      <td>97.4</td>\n",
       "      <td>1.3</td>\n",
       "      <td>448.2</td>\n",
       "      <td>87.3</td>\n",
       "    </tr>\n",
       "  </tbody>\n",
       "</table>\n",
       "</div>"
      ],
      "text/plain": [
       "   generation    hp  attack  speed  sp_attack  sp_defense  weight_kg  \\\n",
       "0           1  64.3    74.5   70.2       69.4        67.7       46.0   \n",
       "1           2  71.0    70.0   61.6       65.4        73.4       49.1   \n",
       "2           3  65.7    77.2   63.6       71.6        69.4       67.1   \n",
       "3           4  73.1    82.7   70.1       74.6        74.5       76.9   \n",
       "4           5  70.3    80.6   66.5       70.0        67.7       52.4   \n",
       "5           6  71.1    76.5   66.7       76.6        73.2       51.6   \n",
       "6           7  70.6    84.6   64.0       75.2        75.6       97.4   \n",
       "\n",
       "   height_m  base_total  capture_rate  \n",
       "0       1.2       416.3         106.2  \n",
       "1       1.2       413.2          91.9  \n",
       "2       1.2       420.0         113.4  \n",
       "3       1.1       451.2          78.9  \n",
       "4       1.0       427.0         103.1  \n",
       "5       1.1       437.6         100.4  \n",
       "6       1.3       448.2          87.3  "
      ]
     },
     "execution_count": 53,
     "metadata": {},
     "output_type": "execute_result"
    }
   ],
   "source": [
    "generation_df = pokemon_df.groupby(['generation']\n",
    "                                  )['hp','attack','speed',\n",
    "                                    'sp_attack','sp_defense','weight_kg',\n",
    "                                    'height_m','base_total','capture_rate'\n",
    "                                   ].mean().astype(float).round(1).reset_index()\n",
    "generation_df = generation_df.sort_values(by=['generation'], \n",
    "                                              ascending = [True])\n",
    "\n",
    "generation_df"
   ]
  },
  {
   "cell_type": "markdown",
   "metadata": {},
   "source": [
    "### Plot I"
   ]
  },
  {
   "cell_type": "code",
   "execution_count": 54,
   "metadata": {},
   "outputs": [
    {
     "data": {
      "text/plain": [
       "(55, 90)"
      ]
     },
     "execution_count": 54,
     "metadata": {},
     "output_type": "execute_result"
    },
    {
     "data": {
      "image/png": "[encoded data removed]",
      "text/plain": [
       "<Figure size 864x504 with 1 Axes>"
      ]
     },
     "metadata": {},
     "output_type": "display_data"
    }
   ],
   "source": [
    "sns.set(style='whitegrid')\n",
    "plt.figure(figsize=(12,7))\n",
    "\n",
    "sns.lineplot(data = generation_df,x = 'generation',y = 'hp', marker=\"o\")\n",
    "sns.lineplot(data = generation_df,x = 'generation',y = 'attack', marker=\"o\")\n",
    "sns.lineplot(data = generation_df,x = 'generation',y = 'speed', marker=\"o\")\n",
    "sns.lineplot(data = generation_df,x = 'generation',y = 'sp_attack', marker=\"o\")\n",
    "sns.lineplot(data = generation_df,x = 'generation',y = 'sp_defense', marker=\"o\")\n",
    "\n",
    "plt.legend(['avg. hp','avg. attack','avg. speed','avg. sp_attack','avg. sp_defense'], \n",
    "           loc='best')\n",
    "plt.ylabel('avg. stats')\n",
    "plt.ylim(55,90)"
   ]
  },
  {
   "cell_type": "markdown",
   "metadata": {},
   "source": [
    "### Plot J"
   ]
  },
  {
   "cell_type": "code",
   "execution_count": 55,
   "metadata": {},
   "outputs": [
    {
     "data": {
      "text/plain": [
       "(150, 800)"
      ]
     },
     "execution_count": 55,
     "metadata": {},
     "output_type": "execute_result"
    },
    {
     "data": {
      "image/png": "[encoded data removed]",
      "text/plain": [
       "<Figure size 864x504 with 1 Axes>"
      ]
     },
     "metadata": {},
     "output_type": "display_data"
    }
   ],
   "source": [
    "sns.set(style='whitegrid')\n",
    "plt.figure(figsize=(12,7))\n",
    "\n",
    "sns.scatterplot(data = pokemon_df,x = 'base_total',y = 'capture_rate', \n",
    "                hue='is_legendary')\n",
    "plt.xlim(150,800)\n"
   ]
  },
  {
   "cell_type": "markdown",
   "metadata": {},
   "source": [
    "### Plot K"
   ]
  },
  {
   "cell_type": "code",
   "execution_count": 56,
   "metadata": {},
   "outputs": [
    {
     "data": {
      "text/plain": [
       "<matplotlib.axes._subplots.AxesSubplot at 0x1a16c8e8d0>"
      ]
     },
     "execution_count": 56,
     "metadata": {},
     "output_type": "execute_result"
    },
    {
     "data": {
      "image/png": "[encoded data removed]",
      "text/plain": [
       "<Figure size 864x504 with 1 Axes>"
      ]
     },
     "metadata": {},
     "output_type": "display_data"
    }
   ],
   "source": [
    "sns.set(style='whitegrid')\n",
    "plt.figure(figsize=(12,7))\n",
    "\n",
    "sns.swarmplot(data = pokemon_df,y = 'base_total',x = 'is_legendary')\n",
    "#plt.xlim(150,800)\n"
   ]
  },
  {
   "cell_type": "markdown",
   "metadata": {},
   "source": [
    "### Plot L"
   ]
  },
  {
   "cell_type": "code",
   "execution_count": 57,
   "metadata": {},
   "outputs": [
    {
     "data": {
      "text/plain": [
       "<matplotlib.axes._subplots.AxesSubplot at 0x1a17390cf8>"
      ]
     },
     "execution_count": 57,
     "metadata": {},
     "output_type": "execute_result"
    },
    {
     "data": {
      "image/png": "[encoded data removed]",
      "text/plain": [
       "<Figure size 864x504 with 1 Axes>"
      ]
     },
     "metadata": {},
     "output_type": "display_data"
    }
   ],
   "source": [
    "sns.set(style='whitegrid')\n",
    "plt.figure(figsize=(12,7))\n",
    "\n",
    "sns.countplot(data = pokemon_df,hue = 'is_legendary',x = 'generation', palette='Set2')\n",
    "#plt.xlim(150,800)\n"
   ]
  },
  {
   "cell_type": "markdown",
   "metadata": {},
   "source": [
    "### Encoding"
   ]
  },
  {
   "cell_type": "code",
   "execution_count": 58,
   "metadata": {},
   "outputs": [
    {
     "data": {
      "text/plain": [
       "Index(['against_bug', 'against_dark', 'against_dragon', 'against_electric',\n",
       "       'against_fairy', 'against_fight', 'against_fire', 'against_flying',\n",
       "       'against_ghost', 'against_grass', 'against_ground', 'against_ice',\n",
       "       'against_normal', 'against_poison', 'against_psychic', 'against_rock',\n",
       "       'against_steel', 'against_water', 'attack', 'base_egg_steps',\n",
       "       'base_happiness', 'base_total', 'capture_rate', 'defense',\n",
       "       'experience_growth', 'height_m', 'hp', 'sp_attack', 'sp_defense',\n",
       "       'speed', 'weight_kg', 'generation', 'total_abilities', 'total_types',\n",
       "       'is_legendary', 'type1_bug', 'type1_dark', 'type1_dragon',\n",
       "       'type1_electric', 'type1_fairy', 'type1_fighting', 'type1_fire',\n",
       "       'type1_flying', 'type1_ghost', 'type1_grass', 'type1_ground',\n",
       "       'type1_ice', 'type1_normal', 'type1_poison', 'type1_psychic',\n",
       "       'type1_rock', 'type1_steel', 'type1_water', 'type2_NA', 'type2_bug',\n",
       "       'type2_dark', 'type2_dragon', 'type2_electric', 'type2_fairy',\n",
       "       'type2_fighting', 'type2_fire', 'type2_flying', 'type2_ghost',\n",
       "       'type2_grass', 'type2_ground', 'type2_ice', 'type2_normal',\n",
       "       'type2_poison', 'type2_psychic', 'type2_rock', 'type2_steel',\n",
       "       'type2_water'],\n",
       "      dtype='object')"
      ]
     },
     "execution_count": 58,
     "metadata": {},
     "output_type": "execute_result"
    }
   ],
   "source": [
    "#Encoding using get_dummies method\n",
    "just_dummy = pd.get_dummies(pokemon_df.loc[:,['type1','type2']])\n",
    "pokemon_df_ml = pd.concat([pokemon_df, just_dummy], axis=1)      \n",
    "pokemon_df_ml.drop(['type1','type2'], inplace=True, axis=1)\n",
    "pokemon_df_ml.columns"
   ]
  },
  {
   "cell_type": "markdown",
   "metadata": {},
   "source": [
    "### Modelling"
   ]
  },
  {
   "cell_type": "code",
   "execution_count": 59,
   "metadata": {},
   "outputs": [],
   "source": [
    "X = pokemon_df_ml.drop(['is_legendary'], axis = 1)\n",
    "y = pokemon_df_ml['is_legendary']"
   ]
  },
  {
   "cell_type": "code",
   "execution_count": 60,
   "metadata": {},
   "outputs": [],
   "source": [
    "from sklearn.model_selection import train_test_split\n",
    "X_train, X_test, y_train, y_test = train_test_split(X, y, test_size = 0.25, \n",
    "                                                random_state = 1, stratify = y)"
   ]
  },
  {
   "cell_type": "code",
   "execution_count": 61,
   "metadata": {},
   "outputs": [],
   "source": [
    "#Oversample the train 'is_legendary = 1' dataset\n",
    "sm = SMOTE(random_state=1, ratio = 1.0)\n",
    "X_train_res, y_train_res = sm.fit_sample(X_train, y_train)"
   ]
  },
  {
   "cell_type": "code",
   "execution_count": 62,
   "metadata": {},
   "outputs": [],
   "source": [
    "from sklearn.dummy import DummyClassifier\n",
    "from sklearn.linear_model import LogisticRegression\n",
    "from sklearn.svm import SVC\n",
    "from sklearn.neighbors import KNeighborsClassifier\n",
    "from sklearn.tree import DecisionTreeClassifier\n",
    "from sklearn.ensemble import RandomForestClassifier, GradientBoostingClassifier"
   ]
  },
  {
   "cell_type": "code",
   "execution_count": 63,
   "metadata": {},
   "outputs": [],
   "source": [
    "from sklearn.model_selection import cross_val_score, GridSearchCV"
   ]
  },
  {
   "cell_type": "code",
   "execution_count": 64,
   "metadata": {},
   "outputs": [],
   "source": [
    "from sklearn.metrics.scorer import SCORERS, roc_auc_score, f1_score"
   ]
  },
  {
   "cell_type": "code",
   "execution_count": 65,
   "metadata": {
    "scrolled": true
   },
   "outputs": [
    {
     "data": {
      "text/plain": [
       "dict_keys(['explained_variance', 'r2', 'neg_median_absolute_error', 'neg_mean_absolute_error', 'neg_mean_squared_error', 'neg_mean_squared_log_error', 'accuracy', 'roc_auc', 'balanced_accuracy', 'average_precision', 'neg_log_loss', 'brier_score_loss', 'adjusted_rand_score', 'homogeneity_score', 'completeness_score', 'v_measure_score', 'mutual_info_score', 'adjusted_mutual_info_score', 'normalized_mutual_info_score', 'fowlkes_mallows_score', 'precision', 'precision_macro', 'precision_micro', 'precision_samples', 'precision_weighted', 'recall', 'recall_macro', 'recall_micro', 'recall_samples', 'recall_weighted', 'f1', 'f1_macro', 'f1_micro', 'f1_samples', 'f1_weighted'])"
      ]
     },
     "execution_count": 65,
     "metadata": {},
     "output_type": "execute_result"
    }
   ],
   "source": [
    "SCORERS.keys()"
   ]
  },
  {
   "cell_type": "code",
   "execution_count": 66,
   "metadata": {},
   "outputs": [],
   "source": [
    "def gridsearchcv(estimator, param):\n",
    "    \n",
    "    gcv = GridSearchCV(estimator, param, cv = 5, verbose = 1, \n",
    "                       n_jobs = -1, scoring = 'roc_auc')\n",
    "    gcv.fit(X_train_res, y_train_res)\n",
    "    \n",
    "    print(\"Best estimator:\", gcv.best_estimator_)\n",
    "    print(\"\\nBest score (Train):\", gcv.best_score_)\n",
    "    print(\"\\nBest score (Test):\", gcv.score(X_test, y_test))"
   ]
  },
  {
   "cell_type": "code",
   "execution_count": 67,
   "metadata": {},
   "outputs": [],
   "source": [
    "def alg_score(estimator):\n",
    "    estimator.fit(X_train_res, y_train_res)\n",
    "    probs = estimator.predict(X_test)\n",
    "    auc = roc_auc_score(y_test, probs)\n",
    "    return auc \n",
    "\n",
    "def cv_mean(estimator):\n",
    "    return cross_val_score(estimator, X_train_res, y_train_res, cv = 5, \n",
    "                           n_jobs = -1, scoring = 'roc_auc').mean()"
   ]
  },
  {
   "cell_type": "markdown",
   "metadata": {},
   "source": [
    "### Dummy Classifier"
   ]
  },
  {
   "cell_type": "code",
   "execution_count": 70,
   "metadata": {},
   "outputs": [
    {
     "name": "stdout",
     "output_type": "stream",
     "text": [
      "0.48178506375227687\n"
     ]
    }
   ],
   "source": [
    "#Algorithm ROC-AUC Score\n",
    "dummy = DummyClassifier()\n",
    "print(alg_score(dummy))"
   ]
  },
  {
   "cell_type": "code",
   "execution_count": 71,
   "metadata": {},
   "outputs": [
    {
     "data": {
      "text/plain": [
       "0.5255462885738116"
      ]
     },
     "execution_count": 71,
     "metadata": {},
     "output_type": "execute_result"
    }
   ],
   "source": [
    "cv_mean(dummy)"
   ]
  },
  {
   "cell_type": "markdown",
   "metadata": {},
   "source": [
    "### Logistic Regression"
   ]
  },
  {
   "cell_type": "code",
   "execution_count": 72,
   "metadata": {},
   "outputs": [
    {
     "name": "stdout",
     "output_type": "stream",
     "text": [
      "0.9112021857923498\n"
     ]
    },
    {
     "name": "stderr",
     "output_type": "stream",
     "text": [
      "/Users/Sulaiman/anaconda3/lib/python3.7/site-packages/sklearn/linear_model/logistic.py:433: FutureWarning: Default solver will be changed to 'lbfgs' in 0.22. Specify a solver to silence this warning.\n",
      "  FutureWarning)\n"
     ]
    }
   ],
   "source": [
    "lr = LogisticRegression()\n",
    "print(alg_score(lr))"
   ]
  },
  {
   "cell_type": "code",
   "execution_count": 73,
   "metadata": {},
   "outputs": [
    {
     "data": {
      "text/plain": [
       "0.993262293223224"
      ]
     },
     "execution_count": 73,
     "metadata": {},
     "output_type": "execute_result"
    }
   ],
   "source": [
    "cv_mean(lr)"
   ]
  },
  {
   "cell_type": "code",
   "execution_count": 74,
   "metadata": {},
   "outputs": [
    {
     "name": "stdout",
     "output_type": "stream",
     "text": [
      "Fitting 5 folds for each of 10 candidates, totalling 50 fits\n"
     ]
    },
    {
     "name": "stderr",
     "output_type": "stream",
     "text": [
      "[Parallel(n_jobs=-1)]: Using backend LokyBackend with 4 concurrent workers.\n"
     ]
    },
    {
     "name": "stdout",
     "output_type": "stream",
     "text": [
      "Best estimator: LogisticRegression(C=100, class_weight=None, dual=False, fit_intercept=True,\n",
      "          intercept_scaling=1, max_iter=100, multi_class='warn',\n",
      "          n_jobs=None, penalty='l1', random_state=None, solver='warn',\n",
      "          tol=0.0001, verbose=0, warm_start=False)\n",
      "\n",
      "Best score (Train): 0.998345336442169\n",
      "\n",
      "Best score (Test): 0.9990892531876139\n"
     ]
    },
    {
     "name": "stderr",
     "output_type": "stream",
     "text": [
      "[Parallel(n_jobs=-1)]: Done  50 out of  50 | elapsed:    0.9s finished\n",
      "/Users/Sulaiman/anaconda3/lib/python3.7/site-packages/sklearn/linear_model/logistic.py:433: FutureWarning: Default solver will be changed to 'lbfgs' in 0.22. Specify a solver to silence this warning.\n",
      "  FutureWarning)\n"
     ]
    }
   ],
   "source": [
    "param = {'penalty': ['l2', 'l1'], 'C': [0.01, 0.1, 1, 10, 100]}\n",
    "\n",
    "gridsearchcv(lr, param)"
   ]
  },
  {
   "cell_type": "markdown",
   "metadata": {},
   "source": [
    "### kNN"
   ]
  },
  {
   "cell_type": "code",
   "execution_count": 75,
   "metadata": {},
   "outputs": [
    {
     "data": {
      "text/plain": [
       "0.9612932604735883"
      ]
     },
     "execution_count": 75,
     "metadata": {},
     "output_type": "execute_result"
    }
   ],
   "source": [
    "knn = KNeighborsClassifier()\n",
    "alg_score(knn)"
   ]
  },
  {
   "cell_type": "code",
   "execution_count": 76,
   "metadata": {},
   "outputs": [
    {
     "data": {
      "text/plain": [
       "0.9944543172966631"
      ]
     },
     "execution_count": 76,
     "metadata": {},
     "output_type": "execute_result"
    }
   ],
   "source": [
    "cv_mean(knn)"
   ]
  },
  {
   "cell_type": "code",
   "execution_count": 77,
   "metadata": {},
   "outputs": [
    {
     "name": "stderr",
     "output_type": "stream",
     "text": [
      "[Parallel(n_jobs=-1)]: Using backend LokyBackend with 4 concurrent workers.\n"
     ]
    },
    {
     "name": "stdout",
     "output_type": "stream",
     "text": [
      "Fitting 5 folds for each of 4 candidates, totalling 20 fits\n",
      "Best estimator: KNeighborsClassifier(algorithm='auto', leaf_size=30, metric='minkowski',\n",
      "           metric_params=None, n_jobs=None, n_neighbors=7, p=2,\n",
      "           weights='uniform')\n",
      "\n",
      "Best score (Train): 0.9953050900080967\n",
      "\n",
      "Best score (Test): 0.9924104432301153\n"
     ]
    },
    {
     "name": "stderr",
     "output_type": "stream",
     "text": [
      "[Parallel(n_jobs=-1)]: Done  20 out of  20 | elapsed:    0.6s finished\n"
     ]
    }
   ],
   "source": [
    "param = {'n_neighbors': [3, 5, 7, 9]}\n",
    "\n",
    "gridsearchcv(knn, param)"
   ]
  },
  {
   "cell_type": "markdown",
   "metadata": {},
   "source": [
    "### Decision Tree"
   ]
  },
  {
   "cell_type": "code",
   "execution_count": 78,
   "metadata": {},
   "outputs": [
    {
     "data": {
      "text/plain": [
       "1.0"
      ]
     },
     "execution_count": 78,
     "metadata": {},
     "output_type": "execute_result"
    }
   ],
   "source": [
    "tree = DecisionTreeClassifier()\n",
    "alg_score(tree)"
   ]
  },
  {
   "cell_type": "code",
   "execution_count": 79,
   "metadata": {},
   "outputs": [
    {
     "data": {
      "text/plain": [
       "0.9963469557964972"
      ]
     },
     "execution_count": 79,
     "metadata": {},
     "output_type": "execute_result"
    }
   ],
   "source": [
    "cv_mean(tree)"
   ]
  },
  {
   "cell_type": "code",
   "execution_count": 80,
   "metadata": {},
   "outputs": [
    {
     "name": "stderr",
     "output_type": "stream",
     "text": [
      "[Parallel(n_jobs=-1)]: Using backend LokyBackend with 4 concurrent workers.\n"
     ]
    },
    {
     "name": "stdout",
     "output_type": "stream",
     "text": [
      "Fitting 5 folds for each of 72 candidates, totalling 360 fits\n",
      "Best estimator: DecisionTreeClassifier(class_weight=None, criterion='gini', max_depth=5,\n",
      "            max_features=60, max_leaf_nodes=None,\n",
      "            min_impurity_decrease=0.0, min_impurity_split=None,\n",
      "            min_samples_leaf=1, min_samples_split=10,\n",
      "            min_weight_fraction_leaf=0.0, presort=False, random_state=None,\n",
      "            splitter='best')\n",
      "\n",
      "Best score (Train): 0.9999748878323176\n",
      "\n",
      "Best score (Test): 0.9166666666666667\n"
     ]
    },
    {
     "name": "stderr",
     "output_type": "stream",
     "text": [
      "[Parallel(n_jobs=-1)]: Done 360 out of 360 | elapsed:    1.5s finished\n"
     ]
    }
   ],
   "source": [
    "param = {'criterion': ['gini', 'entropy'], 'max_depth': [3, 5, 7, 9], \n",
    "         'min_samples_split': [5, 10, 13], 'max_features': [20,50,60]}\n",
    "\n",
    "gridsearchcv(tree, param)"
   ]
  },
  {
   "cell_type": "markdown",
   "metadata": {},
   "source": [
    "### Plot M"
   ]
  },
  {
   "cell_type": "code",
   "execution_count": 81,
   "metadata": {},
   "outputs": [
    {
     "data": {
      "text/plain": [
       "(array([0, 1, 2, 3, 4]), <a list of 5 Text xticklabel objects>)"
      ]
     },
     "execution_count": 81,
     "metadata": {},
     "output_type": "execute_result"
    },
    {
     "data": {
      "image/png": "[encoded data removed]",
      "text/plain": [
       "<Figure size 1080x576 with 1 Axes>"
      ]
     },
     "metadata": {},
     "output_type": "display_data"
    }
   ],
   "source": [
    "importances = tree.feature_importances_\n",
    "features = X.columns.values\n",
    "\n",
    "feat_importances = sorted(list(zip(features, importances)), key=lambda x:x[1], reverse=True)\n",
    "feat_importances = feat_importances[:5]\n",
    "import seaborn as sns\n",
    "\n",
    "plt.figure(figsize=(15,8))\n",
    "sns.barplot([a[0] for a in feat_importances], [b[1] for b in feat_importances])\n",
    "plt.xticks(rotation=30)"
   ]
  },
  {
   "cell_type": "markdown",
   "metadata": {},
   "source": [
    "### Random Forest"
   ]
  },
  {
   "cell_type": "code",
   "execution_count": 82,
   "metadata": {},
   "outputs": [
    {
     "name": "stderr",
     "output_type": "stream",
     "text": [
      "/Users/Sulaiman/anaconda3/lib/python3.7/site-packages/sklearn/ensemble/forest.py:246: FutureWarning: The default value of n_estimators will change from 10 in version 0.20 to 100 in 0.22.\n",
      "  \"10 in version 0.20 to 100 in 0.22.\", FutureWarning)\n"
     ]
    },
    {
     "data": {
      "text/plain": [
       "0.9722222222222222"
      ]
     },
     "execution_count": 82,
     "metadata": {},
     "output_type": "execute_result"
    }
   ],
   "source": [
    "rf = RandomForestClassifier()\n",
    "alg_score(rf)"
   ]
  },
  {
   "cell_type": "code",
   "execution_count": 83,
   "metadata": {},
   "outputs": [
    {
     "data": {
      "text/plain": [
       "0.9999416917489622"
      ]
     },
     "execution_count": 83,
     "metadata": {},
     "output_type": "execute_result"
    }
   ],
   "source": [
    "cv_mean(rf)"
   ]
  },
  {
   "cell_type": "code",
   "execution_count": 84,
   "metadata": {},
   "outputs": [
    {
     "name": "stderr",
     "output_type": "stream",
     "text": [
      "[Parallel(n_jobs=-1)]: Using backend LokyBackend with 4 concurrent workers.\n"
     ]
    },
    {
     "name": "stdout",
     "output_type": "stream",
     "text": [
      "Fitting 5 folds for each of 576 candidates, totalling 2880 fits\n"
     ]
    },
    {
     "name": "stderr",
     "output_type": "stream",
     "text": [
      "[Parallel(n_jobs=-1)]: Done 280 tasks      | elapsed:    4.1s\n",
      "[Parallel(n_jobs=-1)]: Done 1480 tasks      | elapsed:   22.1s\n"
     ]
    },
    {
     "name": "stdout",
     "output_type": "stream",
     "text": [
      "Best estimator: RandomForestClassifier(bootstrap=True, class_weight=None, criterion='gini',\n",
      "            max_depth=5, max_features=50, max_leaf_nodes=None,\n",
      "            min_impurity_decrease=0.0, min_impurity_split=None,\n",
      "            min_samples_leaf=4, min_samples_split=5,\n",
      "            min_weight_fraction_leaf=0.0, n_estimators=5, n_jobs=None,\n",
      "            oob_score=False, random_state=None, verbose=0,\n",
      "            warm_start=False)\n",
      "\n",
      "Best score (Train): 0.9999834107498341\n",
      "\n",
      "Best score (Test): 1.0\n"
     ]
    },
    {
     "name": "stderr",
     "output_type": "stream",
     "text": [
      "[Parallel(n_jobs=-1)]: Done 2880 out of 2880 | elapsed:   40.1s finished\n"
     ]
    }
   ],
   "source": [
    "param = {'n_estimators': [5, 7, 10, 13], 'max_depth': [5, 10, 15, 20], 'min_samples_split': [5, 10, 15], \n",
    "         'max_features': [20,50,60], 'min_samples_leaf': [4, 7, 10, 13]}\n",
    "\n",
    "gridsearchcv(rf, param)"
   ]
  },
  {
   "cell_type": "markdown",
   "metadata": {},
   "source": [
    "### Plot N"
   ]
  },
  {
   "cell_type": "code",
   "execution_count": 85,
   "metadata": {},
   "outputs": [
    {
     "data": {
      "text/plain": [
       "(array([ 0,  1,  2,  3,  4,  5,  6,  7,  8,  9, 10, 11, 12, 13, 14, 15, 16,\n",
       "        17, 18, 19]), <a list of 20 Text xticklabel objects>)"
      ]
     },
     "execution_count": 85,
     "metadata": {},
     "output_type": "execute_result"
    },
    {
     "data": {
      "image/png": "[encoded data removed]",
      "text/plain": [
       "<Figure size 1080x576 with 1 Axes>"
      ]
     },
     "metadata": {},
     "output_type": "display_data"
    }
   ],
   "source": [
    "rf = RandomForestClassifier(bootstrap=True, class_weight=None, criterion='gini',\n",
    "            max_depth=5, max_features=20, max_leaf_nodes=None,\n",
    "            min_impurity_decrease=0.0, min_impurity_split=None,\n",
    "            min_samples_leaf=4, min_samples_split=5,\n",
    "            min_weight_fraction_leaf=0.0, n_estimators=10, n_jobs=None,\n",
    "            oob_score=False, random_state=None, verbose=0,\n",
    "            warm_start=False)\n",
    "\n",
    "rf.fit(X_train, y_train)\n",
    "\n",
    "importances = rf.feature_importances_\n",
    "features = X.columns.values\n",
    "\n",
    "feat_importances = sorted(list(zip(features, importances)), key=lambda x:x[1], reverse=True)\n",
    "feat_importances = feat_importances[:20]\n",
    "import seaborn as sns\n",
    "\n",
    "plt.figure(figsize=(15,8))\n",
    "sns.barplot([a[0] for a in feat_importances], [b[1] for b in feat_importances])\n",
    "plt.xticks(rotation=60)"
   ]
  },
  {
   "cell_type": "markdown",
   "metadata": {},
   "source": [
    "### Gradient Boosting"
   ]
  },
  {
   "cell_type": "code",
   "execution_count": 86,
   "metadata": {},
   "outputs": [
    {
     "data": {
      "text/plain": [
       "1.0"
      ]
     },
     "execution_count": 86,
     "metadata": {},
     "output_type": "execute_result"
    }
   ],
   "source": [
    "gb = GradientBoostingClassifier()\n",
    "alg_score(gb)"
   ]
  },
  {
   "cell_type": "code",
   "execution_count": 87,
   "metadata": {},
   "outputs": [
    {
     "data": {
      "text/plain": [
       "1.0"
      ]
     },
     "execution_count": 87,
     "metadata": {},
     "output_type": "execute_result"
    }
   ],
   "source": [
    "cv_mean(gb)"
   ]
  },
  {
   "cell_type": "code",
   "execution_count": 88,
   "metadata": {},
   "outputs": [
    {
     "name": "stdout",
     "output_type": "stream",
     "text": [
      "Fitting 5 folds for each of 1728 candidates, totalling 8640 fits\n"
     ]
    },
    {
     "name": "stderr",
     "output_type": "stream",
     "text": [
      "[Parallel(n_jobs=-1)]: Using backend LokyBackend with 4 concurrent workers.\n",
      "[Parallel(n_jobs=-1)]: Done 280 tasks      | elapsed:    3.7s\n",
      "[Parallel(n_jobs=-1)]: Done 1480 tasks      | elapsed:   20.2s\n",
      "[Parallel(n_jobs=-1)]: Done 3480 tasks      | elapsed:   48.3s\n",
      "[Parallel(n_jobs=-1)]: Done 6280 tasks      | elapsed:  1.5min\n"
     ]
    },
    {
     "name": "stdout",
     "output_type": "stream",
     "text": [
      "Best estimator: GradientBoostingClassifier(criterion='friedman_mse', init=None,\n",
      "              learning_rate=0.2, loss='deviance', max_depth=3,\n",
      "              max_features=60, max_leaf_nodes=None,\n",
      "              min_impurity_decrease=0.0, min_impurity_split=None,\n",
      "              min_samples_leaf=8, min_samples_split=5,\n",
      "              min_weight_fraction_leaf=0.0, n_estimators=13,\n",
      "              n_iter_no_change=None, presort='auto', random_state=None,\n",
      "              subsample=1.0, tol=0.0001, validation_fraction=0.1,\n",
      "              verbose=0, warm_start=False)\n",
      "\n",
      "Best score (Train): 1.0\n",
      "\n",
      "Best score (Test): 1.0\n"
     ]
    },
    {
     "name": "stderr",
     "output_type": "stream",
     "text": [
      "[Parallel(n_jobs=-1)]: Done 8640 out of 8640 | elapsed:  2.1min finished\n"
     ]
    }
   ],
   "source": [
    "param = {'learning_rate': [0.1, 0.2, 0.3], 'n_estimators': [5, 7, 10, 13], \n",
    "         'max_depth': [3, 5, 7, 9], \n",
    "         'min_samples_leaf': [5, 8, 10, 13], 'min_samples_split': [5, 10, 15], \n",
    "         'max_features': [20,50,60]}\n",
    "\n",
    "gridsearchcv(gb, param)"
   ]
  },
  {
   "cell_type": "markdown",
   "metadata": {},
   "source": [
    "### Gradient Boosting Confusion Matrix & Classification Report"
   ]
  },
  {
   "cell_type": "code",
   "execution_count": 89,
   "metadata": {},
   "outputs": [
    {
     "name": "stdout",
     "output_type": "stream",
     "text": [
      "[[183   0]\n",
      " [  0  18]]\n",
      "              precision    recall  f1-score   support\n",
      "\n",
      "           0       1.00      1.00      1.00       183\n",
      "           1       1.00      1.00      1.00        18\n",
      "\n",
      "   micro avg       1.00      1.00      1.00       201\n",
      "   macro avg       1.00      1.00      1.00       201\n",
      "weighted avg       1.00      1.00      1.00       201\n",
      "\n"
     ]
    }
   ],
   "source": [
    "from sklearn.metrics import confusion_matrix\n",
    "from sklearn.metrics import classification_report\n",
    "\n",
    "gb.fit(X_train, y_train)\n",
    "ypred = gb.predict(X_test)\n",
    "\n",
    "print(confusion_matrix(y_test,ypred))\n",
    "print(classification_report(y_test,ypred))"
   ]
  },
  {
   "cell_type": "markdown",
   "metadata": {},
   "source": [
    "### Gradient Boosting Confusion Matrix & Classification Report (Oversampling)"
   ]
  },
  {
   "cell_type": "code",
   "execution_count": 90,
   "metadata": {},
   "outputs": [
    {
     "name": "stdout",
     "output_type": "stream",
     "text": [
      "[[183   0]\n",
      " [  0  18]]\n",
      "              precision    recall  f1-score   support\n",
      "\n",
      "           0       1.00      1.00      1.00       183\n",
      "           1       1.00      1.00      1.00        18\n",
      "\n",
      "   micro avg       1.00      1.00      1.00       201\n",
      "   macro avg       1.00      1.00      1.00       201\n",
      "weighted avg       1.00      1.00      1.00       201\n",
      "\n"
     ]
    }
   ],
   "source": [
    "from sklearn.metrics import confusion_matrix\n",
    "from sklearn.metrics import classification_report\n",
    "\n",
    "gb.fit(X_train_res, y_train_res)\n",
    "ypred = gb.predict(X_test)\n",
    "\n",
    "print(confusion_matrix(y_test,ypred))\n",
    "print(classification_report(y_test,ypred))"
   ]
  },
  {
   "cell_type": "markdown",
   "metadata": {},
   "source": [
    "### Plot O"
   ]
  },
  {
   "cell_type": "code",
   "execution_count": 91,
   "metadata": {},
   "outputs": [
    {
     "data": {
      "text/plain": [
       "(array([ 0,  1,  2,  3,  4,  5,  6,  7,  8,  9, 10, 11, 12, 13, 14, 15, 16,\n",
       "        17, 18, 19]), <a list of 20 Text xticklabel objects>)"
      ]
     },
     "execution_count": 91,
     "metadata": {},
     "output_type": "execute_result"
    },
    {
     "data": {
      "image/png": "[encoded data removed]",
      "text/plain": [
       "<Figure size 1080x576 with 1 Axes>"
      ]
     },
     "metadata": {},
     "output_type": "display_data"
    }
   ],
   "source": [
    "gb = GradientBoostingClassifier(criterion='friedman_mse', init=None,\n",
    "              learning_rate=0.3, loss='deviance', max_depth=5,\n",
    "              max_features=20, max_leaf_nodes=None,\n",
    "              min_impurity_decrease=0.0, min_impurity_split=None,\n",
    "              min_samples_leaf=13, min_samples_split=15,\n",
    "              min_weight_fraction_leaf=0.0, n_estimators=13,\n",
    "              n_iter_no_change=None, presort='auto', random_state=None,\n",
    "              subsample=1.0, tol=0.0001, validation_fraction=0.1,\n",
    "              verbose=0, warm_start=False)\n",
    "\n",
    "gb.fit(X_train, y_train)\n",
    "\n",
    "importances = rf.feature_importances_\n",
    "features = X.columns.values\n",
    "\n",
    "feat_importances = sorted(list(zip(features, importances)), key=lambda x:x[1], reverse=True)\n",
    "feat_importances = feat_importances[:20]\n",
    "import seaborn as sns\n",
    "\n",
    "plt.figure(figsize=(15,8))\n",
    "sns.barplot([a[0] for a in feat_importances], [b[1] for b in feat_importances])\n",
    "plt.xticks(rotation=60)"
   ]
  },
  {
   "cell_type": "markdown",
   "metadata": {},
   "source": [
    "### Conclusion\n",
    "- We classified which pokemon is legendary after EDA and ML.\n",
    "- Most pokemons with lower capture rate are legendary pokemons\n",
    "- Pokemons that are legendary have higher total base (higher attack, defense, hp, etc.)\n",
    "- Newer generation pokemons tend to be legendary, not older generation! More legendary pokemons were introduced for newer generations\n",
    "- Pokemon with lower no. of total abilities tends to be legendary. Our null hypothesis was proven wrong with the above plot. (refer Plot E)\n",
    "- Dual-type pokemon tends to be legendary compared to single-type. Only 3% are legendary single-type compared to 5% that are legendary dual-type. (refer Plot D)\n",
    "\n",
    "- The Dataset is imbalanced. We decided to oversample the training dataset and use ROC-AUC Score to measure the performance of each model. We noticed that by oversampling the train dataset, it helps to improve the roc-auc score."
   ]
  }
 ],
 "metadata": {
  "kernelspec": {
   "display_name": "Python 3",
   "language": "python",
   "name": "python3"
  },
  "language_info": {
   "codemirror_mode": {
    "name": "ipython",
    "version": 3
   },
   "file_extension": ".py",
   "mimetype": "text/x-python",
   "name": "python",
   "nbconvert_exporter": "python",
   "pygments_lexer": "ipython3",
   "version": "3.7.1"
  }
 },
 "nbformat": 4,
 "nbformat_minor": 2
}
